{
 "cells": [
  {
   "cell_type": "markdown",
   "metadata": {
    "collapsed": false
   },
   "source": [
    "# Data Science Fundamentals, Assignment 3"
   ]
  },
  {
   "cell_type": "code",
   "execution_count": 1,
   "metadata": {
    "collapsed": false
   },
   "outputs": [],
   "source": [
    "import numpy as np\n",
    "from  scipy import sparse\n",
    "from scipy import stats\n",
    "import pandas as pd\n",
    "import matplotlib.pyplot as plt\n",
    "import matplotlib.mlab as mlab\n",
    "from random import shuffle\n",
    "from collections import Counter\n",
    "from glob import glob\n",
    "import sys\n",
    "import json\n",
    "import heapq\n",
    "from tempfile import TemporaryFile\n",
    "%matplotlib inline"
   ]
  },
  {
   "cell_type": "markdown",
   "metadata": {},
   "source": [
    "# Cleaning and Preprocessing"
   ]
  },
  {
   "cell_type": "markdown",
   "metadata": {},
   "source": [
    "This is being used to convert all the JSON files to CSV files, \n",
    "reference : https://gist.github.com/paulgb/5265767"
   ]
  },
  {
   "cell_type": "code",
   "execution_count": null,
   "metadata": {
    "collapsed": false
   },
   "outputs": [],
   "source": [
    "def convert(x):\n",
    "    ob = json.loads(x)\n",
    "    for k, v in ob.items():\n",
    "        if isinstance(v, list):\n",
    "            ob[k] = ','.join(v)\n",
    "        elif isinstance(v, dict):\n",
    "            for kk, vv in v.items():\n",
    "                ob['%s_%s' % (k, kk)] = vv\n",
    "            del ob[k]\n",
    "    return ob\n",
    "\n",
    "for json_filename in glob('*.json'):\n",
    "    csv_filename = '%s.csv' % json_filename[:-5]\n",
    "    print 'Converting %s to %s' % (json_filename, csv_filename)\n",
    "    df = pd.DataFrame([convert(line) for line in file(json_filename)])\n",
    "    df.to_csv(csv_filename, encoding='utf-8', index=False)"
   ]
  },
  {
   "cell_type": "markdown",
   "metadata": {},
   "source": [
    "Storing business ids in a separate csv, after dropping NaN's if any"
   ]
  },
  {
   "cell_type": "code",
   "execution_count": null,
   "metadata": {
    "collapsed": false
   },
   "outputs": [],
   "source": [
    "df_business = pd.read_csv('data/yelp_academic_dataset_business.csv')\n",
    "business_ids = pd.DataFrame(df_business['business_id'])\n",
    "business_ids = business_ids.dropna(how='any')\n",
    "business_ids.to_csv('data/business_ids.csv', index=False)"
   ]
  },
  {
   "cell_type": "markdown",
   "metadata": {},
   "source": [
    "Storing user ids in a separate csv, after dropping NaN's if any"
   ]
  },
  {
   "cell_type": "code",
   "execution_count": null,
   "metadata": {
    "collapsed": false
   },
   "outputs": [],
   "source": [
    "df_user = pd.read_csv('data/yelp_academic_dataset_user.csv')\n",
    "user_ids = pd.DataFrame(df_user['user_id'])\n",
    "user_ids = user_ids.dropna(how='any')\n",
    "user_ids.to_csv('data/user_ids.csv', index = False)"
   ]
  },
  {
   "cell_type": "markdown",
   "metadata": {},
   "source": [
    "storing edges (user id, business id) pair in a separate csv, dropping NaN's if any"
   ]
  },
  {
   "cell_type": "code",
   "execution_count": null,
   "metadata": {
    "collapsed": false,
    "scrolled": true
   },
   "outputs": [],
   "source": [
    "reviews = pd.read_csv('data/yelp_academic_dataset_review.csv')\n",
    "review_edges = pd.DataFrame()\n",
    "review_edges['user_id'] = reviews['user_id']\n",
    "review_edges['business_id'] = reviews['business_id']\n",
    "review_edges.to_csv('data/review_edges.csv', index=False)"
   ]
  },
  {
   "cell_type": "markdown",
   "metadata": {},
   "source": [
    "Reading business and user ids from the csv files that we stored earlier "
   ]
  },
  {
   "cell_type": "code",
   "execution_count": 2,
   "metadata": {
    "collapsed": false
   },
   "outputs": [],
   "source": [
    "business_ids = pd.read_csv('data/business_ids.csv')\n",
    "user_ids = pd.read_csv('data/user_ids.csv')\n",
    "USERS = user_ids['user_id'].as_matrix()\n",
    "BIZS = business_ids['business_id'].as_matrix()"
   ]
  },
  {
   "cell_type": "markdown",
   "metadata": {},
   "source": [
    "There can be few ids which are comman in both users and businesses,\n",
    "this can create a issue since our assumption is ids are unique accross nodes \n",
    "removing these comman ids, and storing clean result in csv "
   ]
  },
  {
   "cell_type": "code",
   "execution_count": 3,
   "metadata": {
    "collapsed": false
   },
   "outputs": [],
   "source": [
    "comman_ids = np.intersect1d(USERS, BIZS)\n",
    "\n",
    "USERS = np.setdiff1d(USERS,comman_ids)\n",
    "users_clean = pd.DataFrame(USERS)\n",
    "users_clean.to_csv('data/users_ids_clean.csv', index=False)\n",
    "\n",
    "BIZS = np.setdiff1d(BIZS, comman_ids)\n",
    "bizs_clean = pd.DataFrame(BIZS)\n",
    "bizs_clean.to_csv('data/bizs_ids_clean.csv',index=False)"
   ]
  },
  {
   "cell_type": "markdown",
   "metadata": {},
   "source": [
    "Storing numbers of user and business for later use"
   ]
  },
  {
   "cell_type": "code",
   "execution_count": 4,
   "metadata": {
    "collapsed": false
   },
   "outputs": [
    {
     "name": "stdout",
     "output_type": "stream",
     "text": [
      "84971\n",
      "685626\n"
     ]
    }
   ],
   "source": [
    "no_bizs = BIZS.shape[0]\n",
    "no_usrs = USERS.shape[0]\n",
    "print(no_bizs)\n",
    "print(no_usrs)"
   ]
  },
  {
   "cell_type": "markdown",
   "metadata": {},
   "source": [
    "Reading clean ids to build edges"
   ]
  },
  {
   "cell_type": "code",
   "execution_count": 5,
   "metadata": {
    "collapsed": true
   },
   "outputs": [],
   "source": [
    "USERS = pd.read_csv('data/users_ids_clean.csv').as_matrix()\n",
    "BIZS = pd.read_csv('data/bizs_ids_clean.csv').as_matrix()"
   ]
  },
  {
   "cell_type": "markdown",
   "metadata": {},
   "source": [
    "Reading review file that we stored in earlier part"
   ]
  },
  {
   "cell_type": "code",
   "execution_count": 6,
   "metadata": {
    "collapsed": true
   },
   "outputs": [],
   "source": [
    "review_edges = pd.read_csv('data/review_edges.csv')\n",
    "EDGES_MAT = review_edges.as_matrix()"
   ]
  },
  {
   "cell_type": "markdown",
   "metadata": {},
   "source": [
    "We are testing if there are some values of user ids in edges data, which are invalid,\n",
    "because they are not part of user data, these edges will be invalid,\n",
    "We are removing Invalid edges, and making sure the remaining edges are all valid."
   ]
  },
  {
   "cell_type": "code",
   "execution_count": 7,
   "metadata": {
    "collapsed": false
   },
   "outputs": [
    {
     "name": "stderr",
     "output_type": "stream",
     "text": [
      "/home/shilpa/anaconda2/lib/python2.7/site-packages/numpy/lib/arraysetops.py:200: FutureWarning: numpy not_equal will not check object identity in the future. The comparison did not return the same result as suggested by the identity (`is`)) and will change.\n",
      "  flag = np.concatenate(([True], aux[1:] != aux[:-1]))\n"
     ]
    },
    {
     "name": "stdout",
     "output_type": "stream",
     "text": [
      "True\n"
     ]
    }
   ],
   "source": [
    "truthArray = np.in1d(EDGES_MAT[:,0], USERS)\n",
    "staleIndexs = np.where(truthArray == False)\n",
    "EDGES_MAT = np.delete(EDGES_MAT, staleIndexs[0], 0)\n",
    "truthvalidation = np.all(np.in1d(EDGES_MAT[:,0], USERS))\n",
    "\n",
    "# checking if we successfully removed invalid edges\n",
    "print(truthvalidation)"
   ]
  },
  {
   "cell_type": "markdown",
   "metadata": {},
   "source": [
    "We are testing if there are some values of business ids in edges data, which are invalid,\n",
    "because they are not part of busines data, these edges will be invalid,\n",
    "We are removing Invalid edges and making sure that remaining edges are all valid."
   ]
  },
  {
   "cell_type": "code",
   "execution_count": 8,
   "metadata": {
    "collapsed": false
   },
   "outputs": [
    {
     "name": "stdout",
     "output_type": "stream",
     "text": [
      "True\n"
     ]
    }
   ],
   "source": [
    "truthArray = np.in1d(EDGES_MAT[:,1],BIZS)\n",
    "staleIndexs = np.where(truthArray == False)\n",
    "EDGES_MAT = np.delete(EDGES_MAT, staleIndexs[0],0)\n",
    "truthvalidation = np.all(np.in1d(EDGES_MAT[:,1], BIZS))\n",
    "print(truthvalidation)"
   ]
  },
  {
   "cell_type": "markdown",
   "metadata": {},
   "source": [
    "saving these clean edges in csv"
   ]
  },
  {
   "cell_type": "code",
   "execution_count": 9,
   "metadata": {
    "collapsed": false
   },
   "outputs": [],
   "source": [
    "edges_clean = pd.DataFrame(EDGES_MAT)\n",
    "edges_clean.to_csv('data/edges_clean.csv',index=False)"
   ]
  },
  {
   "cell_type": "markdown",
   "metadata": {},
   "source": [
    "Combining all nodes of our graph, and storing"
   ]
  },
  {
   "cell_type": "code",
   "execution_count": 10,
   "metadata": {
    "collapsed": false
   },
   "outputs": [],
   "source": [
    "USERS = pd.read_csv('data/users_ids_clean.csv').as_matrix()\n",
    "BIZS = pd.read_csv('data/bizs_ids_clean.csv').as_matrix()\n",
    "\n",
    "NODES = np.concatenate((USERS, BIZS), axis=0)\n",
    "NODES = NODES.T[0]\n",
    "nodes_clean = pd.DataFrame(NODES)\n",
    "nodes_clean.to_csv('data/nodes_clean.csv', index=False)"
   ]
  },
  {
   "cell_type": "markdown",
   "metadata": {},
   "source": [
    "Converting edges in the form of index representation for the creation of csr matrix"
   ]
  },
  {
   "cell_type": "code",
   "execution_count": 11,
   "metadata": {
    "collapsed": false
   },
   "outputs": [],
   "source": [
    "NODES = pd.read_csv('data/nodes_clean.csv').as_matrix()\n",
    "EDGES_MAT = pd.read_csv('data/edges_clean.csv').as_matrix()\n",
    "NODES = NODES.T[0]\n",
    "Sorter = NODES.argsort()\n",
    "EDGES = Sorter[np.searchsorted(NODES, EDGES_MAT,side='left',sorter = Sorter)]"
   ]
  },
  {
   "cell_type": "markdown",
   "metadata": {},
   "source": [
    "Now Since we are interested in undirected graph\n",
    "we are going to mark an edges i-->j as well if there is \n",
    "a edge from j --> i exits"
   ]
  },
  {
   "cell_type": "code",
   "execution_count": 13,
   "metadata": {
    "collapsed": false
   },
   "outputs": [],
   "source": [
    "src = EDGES[:,0]\n",
    "dest = EDGES[:,1]\n",
    "row = np.append(src,dest)\n",
    "col = np.append(dest,src)"
   ]
  },
  {
   "cell_type": "markdown",
   "metadata": {},
   "source": [
    "Building a csr matrix containing NODES (users + business)\n",
    "If there is an edge between i and j node adge it will be represented as the entry in Matrix at position [j,i] as well as position [i,j] since it is an undirected graph.\n",
    "ref : http://blog.samuelmh.com/2015/02/pagerank-sparse-matrices-python-ipython.html"
   ]
  },
  {
   "cell_type": "code",
   "execution_count": 14,
   "metadata": {
    "collapsed": false
   },
   "outputs": [
    {
     "name": "stdout",
     "output_type": "stream",
     "text": [
      "The size in memory of the adjacency matrix is 27.4653663635 MB\n",
      "(770597, 770597)\n"
     ]
    }
   ],
   "source": [
    "edgesize = EDGES[:,0].size\n",
    "nodes = NODES.size\n",
    "csr = sparse.csr_matrix((np.bool_(np.ones(2*edgesize)), (row, col)), shape=(nodes,nodes))\n",
    "print \"The size in memory of the adjacency matrix is {0} MB\".format(\n",
    "    (sys.getsizeof(csr.shape)+\n",
    "    csr.data.nbytes+\n",
    "    csr.indices.nbytes+\n",
    "    csr.indptr.nbytes)/(1024.0**2)\n",
    ")\n",
    "print(csr.shape)"
   ]
  },
  {
   "cell_type": "markdown",
   "metadata": {
    "collapsed": false
   },
   "source": [
    "saving routine of csr matrix for future use"
   ]
  },
  {
   "cell_type": "code",
   "execution_count": 17,
   "metadata": {
    "collapsed": true
   },
   "outputs": [],
   "source": [
    "def csr_save(filename,csr):\n",
    "    np.savez(filename,\n",
    "        rows=csr.shape[0],\n",
    "        cols=csr.shape[1],\n",
    "        edges=csr.data.size,\n",
    "        indices=csr.indices,\n",
    "        indptr =csr.indptr\n",
    "    )"
   ]
  },
  {
   "cell_type": "markdown",
   "metadata": {},
   "source": [
    "loading routine of csr matrix for future use"
   ]
  },
  {
   "cell_type": "code",
   "execution_count": 18,
   "metadata": {
    "collapsed": true
   },
   "outputs": [],
   "source": [
    "def csr_load(filename):\n",
    "    loader = np.load(filename)\n",
    "    edges = int(loader['edges'])\n",
    "    return sparse.csr_matrix(\n",
    "        (np.bool_(np.ones(edges)), loader['indices'], loader['indptr']),\n",
    "        shape = (loader['rows'],loader['cols'])\n",
    "    )"
   ]
  },
  {
   "cell_type": "code",
   "execution_count": 19,
   "metadata": {
    "collapsed": false
   },
   "outputs": [],
   "source": [
    "DATASET_NATIVE = 'data/dataset-native.npz'\n",
    "csr_save(DATASET_NATIVE,csr)"
   ]
  },
  {
   "cell_type": "markdown",
   "metadata": {},
   "source": [
    "# TASK 1"
   ]
  },
  {
   "cell_type": "markdown",
   "metadata": {},
   "source": [
    "Loading csr matrix that we stored"
   ]
  },
  {
   "cell_type": "code",
   "execution_count": 20,
   "metadata": {
    "collapsed": false
   },
   "outputs": [
    {
     "name": "stdout",
     "output_type": "stream",
     "text": [
      "CPU times: user 100 ms, sys: 80 ms, total: 180 ms\n",
      "Wall time: 351 ms\n"
     ]
    }
   ],
   "source": [
    "DATASET_NATIVE = 'data/dataset-native.npz'\n",
    "%time csr = csr_load(DATASET_NATIVE)"
   ]
  },
  {
   "cell_type": "markdown",
   "metadata": {},
   "source": [
    "Since we have made the undirected matrix, the column or row sum of the matrix will give us the degree distribution of users \n",
    "and businesses, we are taking column sum"
   ]
  },
  {
   "cell_type": "code",
   "execution_count": 21,
   "metadata": {
    "collapsed": false
   },
   "outputs": [],
   "source": [
    "degrees = csr.sum(axis=0)\n",
    "usr_degrees = degrees[0,0:no_usrs]\n",
    "usr_degrees = usr_degrees.flatten()\n",
    "\n",
    "biz_degrees = degrees[0,no_usrs:]\n",
    "biz_degrees = biz_degrees.flatten()\n"
   ]
  },
  {
   "cell_type": "code",
   "execution_count": 22,
   "metadata": {
    "collapsed": false
   },
   "outputs": [
    {
     "data": {
      "image/png": "[encoded data removed]",
      "text/plain": [
       "<matplotlib.figure.Figure at 0xa383814c>"
      ]
     },
     "metadata": {},
     "output_type": "display_data"
    }
   ],
   "source": [
    "x = biz_degrees.flat\n",
    "y = Counter(list(x))\n",
    "distribution = np.array([y.keys(),y.values()])\n",
    "plt.scatter(distribution[0,:],distribution[1,:], color='blue')\n",
    "# trying to zoom out in lower part of the distribution\n",
    "plt.xlim(0,200)\n",
    "plt.ylim(0,12000)\n",
    "plt.xlabel(\"degrees\")\n",
    "plt.ylabel(\"counts\")\n",
    "plt.title(\"business degree distribution (normal)\")\n",
    "plt.show()"
   ]
  },
  {
   "cell_type": "markdown",
   "metadata": {},
   "source": [
    "Observations :\n",
    "\n",
    "If we look at first distribution (for normal values), It looks like an exponential relationship between \n",
    "particular number of reviews and probability of getting that many reviews for an randomly selected business.\n",
    "\n",
    "Let say we randomly select a perticular business X, the probabality that this business have received 2 reviews is very high, the probability that this business have 3 reviews decreases exponentialy.\n",
    "\n",
    "the probability of a randomly selected business having k reviews decreases exponentialy if we increases k.\n",
    "\n",
    "This kind of distribution can be classified as power low distrubution.\n",
    "Let's look at the distribution if we take logs, (idealy it should look somewhat linear, if our assumption of it being a power low distribution is true)\n",
    "\n"
   ]
  },
  {
   "cell_type": "code",
   "execution_count": 23,
   "metadata": {
    "collapsed": false
   },
   "outputs": [
    {
     "data": {
      "image/png": "[encoded data removed]",
      "text/plain": [
       "<matplotlib.figure.Figure at 0xa383802c>"
      ]
     },
     "metadata": {},
     "output_type": "display_data"
    }
   ],
   "source": [
    "x = biz_degrees.flat\n",
    "y = Counter(list(x))\n",
    "distribution = np.array([y.keys(),y.values()])\n",
    "\n",
    "# we are adding plus 1 to avoid -inft if we get 0 and degree count somewhere in data\n",
    "x = np.log(distribution[0,:]+1)\n",
    "y = np.log(distribution[1,:]+1)\n",
    "plt.scatter(x,y, color='blue')\n",
    "plt.title(\"business degree distribution (log)\")\n",
    "plt.xlabel('log(degrees)')\n",
    "plt.ylabel('log(counts)')\n",
    "plt.show()"
   ]
  },
  {
   "cell_type": "markdown",
   "metadata": {},
   "source": [
    "Observations :\n",
    "This almost looks like an linear relationship between log(count) and log(degrees), we can conclude that \n",
    "our assumtion of it being a power low distribution is true.\n",
    "    \n",
    "there are some flow breaking points at the start, but after k=2 it becomes a power low distribution.\n",
    "    \n",
    "In such scenarios of distribution generaly logrithmic graphs gives us more information because it looks much    simpler and it is easy to draw a relationship between 2 variables."
   ]
  },
  {
   "cell_type": "code",
   "execution_count": 24,
   "metadata": {
    "collapsed": false
   },
   "outputs": [
    {
     "data": {
      "image/png": "[encoded data removed]",
      "text/plain": [
       "<matplotlib.figure.Figure at 0xa9418f2c>"
      ]
     },
     "metadata": {},
     "output_type": "display_data"
    }
   ],
   "source": [
    "x = usr_degrees.flat\n",
    "y = Counter(list(x))\n",
    "distribution = np.array([y.keys(),y.values()])\n",
    "plt.scatter(distribution[0,:],distribution[1,:], color='blue')\n",
    "# trying to zoom out in lower part of the distribution\n",
    "plt.xlim(0,200)\n",
    "plt.ylim(0,12000)\n",
    "plt.xlabel(\"degrees\")\n",
    "plt.ylabel(\"counts\")\n",
    "plt.title(\"Users degree distribution (normal)\")\n",
    "plt.show()"
   ]
  },
  {
   "cell_type": "markdown",
   "metadata": {},
   "source": [
    "Observations :\n",
    "\n",
    "This time this is more clear power low distribution same as in case of business, it does not have any outliers as well.\n",
    "\n",
    "It means if k denot number of reviews than, if we select an user randomly, the pobability of that user has reviewed k businesses decreses exponentialy if we increase k.\n",
    "\n",
    "it should also be a linear graph when we plot it in log scale."
   ]
  },
  {
   "cell_type": "code",
   "execution_count": 25,
   "metadata": {
    "collapsed": false
   },
   "outputs": [
    {
     "data": {
      "image/png": "[encoded data removed]",
      "text/plain": [
       "<matplotlib.figure.Figure at 0xa279e4ac>"
      ]
     },
     "metadata": {},
     "output_type": "display_data"
    }
   ],
   "source": [
    "x = usr_degrees.flat\n",
    "y = Counter(list(x))\n",
    "distribution = np.array([y.keys(),y.values()])\n",
    "\n",
    "# we are adding plus 1 to avoid -inft if we get 0 and degree count somewhere in data\n",
    "x = np.log(distribution[0,:]+1)\n",
    "y = np.log(distribution[1,:]+1)\n",
    "plt.scatter(x,y, color='blue')\n",
    "plt.title(\"User degree distribution (log)\")\n",
    "plt.xlabel('log(degrees)')\n",
    "plt.ylabel('log(counts)')\n",
    "plt.show()"
   ]
  },
  {
   "cell_type": "markdown",
   "metadata": {},
   "source": [
    "Observations :\n",
    "As expected this as well is a linear plot between log(degrees) and log(count)."
   ]
  },
  {
   "cell_type": "markdown",
   "metadata": {},
   "source": [
    "# TASK 2 :"
   ]
  },
  {
   "cell_type": "markdown",
   "metadata": {},
   "source": [
    "loading the CSR matrix that we made"
   ]
  },
  {
   "cell_type": "code",
   "execution_count": 26,
   "metadata": {
    "collapsed": false
   },
   "outputs": [
    {
     "name": "stdout",
     "output_type": "stream",
     "text": [
      "CPU times: user 48 ms, sys: 108 ms, total: 156 ms\n",
      "Wall time: 305 ms\n"
     ]
    }
   ],
   "source": [
    "DATASET_NATIVE = 'data/dataset-native.npz'\n",
    "%time csr = csr_load(DATASET_NATIVE)"
   ]
  },
  {
   "cell_type": "markdown",
   "metadata": {},
   "source": [
    "ref --> http://blog.samuelmh.com/2015/02/pagerank-sparse-matrices-python-ipython.html\n",
    "Page rank function"
   ]
  },
  {
   "cell_type": "code",
   "execution_count": 27,
   "metadata": {
    "collapsed": false
   },
   "outputs": [],
   "source": [
    "def compute_PageRank(G, beta=0.85, epsilon=10**-4):    \n",
    "    #Test adjacency matrix is OK\n",
    "    n,_ = G.shape\n",
    "    assert(G.shape==(n,n))\n",
    "    #Constants Speed-UP\n",
    "    deg_out_beta = G.sum(axis=0).T/beta #vector\n",
    "    #Initialize\n",
    "    ranks = np.ones((n,1))/n #vector\n",
    "    time = 0\n",
    "    flag = True\n",
    "    while flag:        \n",
    "        time +=1\n",
    "        with np.errstate(divide='ignore'): # Ignore division by 0 on ranks/deg_out_beta\n",
    "            new_ranks = G.dot((ranks/deg_out_beta)) #vector\n",
    "        #Leaked PageRank\n",
    "        new_ranks += (1-new_ranks.sum())/n\n",
    "        #Stop condition\n",
    "        if np.linalg.norm(ranks-new_ranks,ord=1)<=epsilon:\n",
    "            flag = False        \n",
    "        ranks = new_ranks\n",
    "    return(ranks, time)"
   ]
  },
  {
   "cell_type": "code",
   "execution_count": 28,
   "metadata": {
    "collapsed": false
   },
   "outputs": [
    {
     "name": "stdout",
     "output_type": "stream",
     "text": [
      "==> Computing PageRank\n",
      "CPU times: user 3.41 s, sys: 840 ms, total: 4.25 s\n",
      "Wall time: 4.92 s\n",
      "\n",
      "Iterations: 60\n"
     ]
    }
   ],
   "source": [
    "# computing page rank\n",
    "print '==> Computing PageRank'\n",
    "%time pr,iters = compute_PageRank(csr)\n",
    "print '\\nIterations: {0}'.format(iters)"
   ]
  },
  {
   "cell_type": "markdown",
   "metadata": {},
   "source": [
    "We are extracting the business pageranks out of total page ranks and finding top 100 among them"
   ]
  },
  {
   "cell_type": "code",
   "execution_count": 29,
   "metadata": {
    "collapsed": false
   },
   "outputs": [
    {
     "name": "stdout",
     "output_type": "stream",
     "text": [
      "[747386 693178 736678 760497 770476 690623 722567 731981 713542 732849\n",
      " 695487 701559 751761 703789 761725 752358 742694 742264 718077 706891\n",
      " 744324 767555 704912 758756 689735 691188 721141 763115 748929 708430\n",
      " 700462 737456 702828 685827 726400 759711 760210 730045 767938 725602\n",
      " 762920 710543 748566 769390 707717 687142 736206 749702 730267 721546\n",
      " 718909 710914 694789 722692 695998 738357 711658 762508 746175 758951\n",
      " 698109 711038 705044 705362 715518 742109 724812 765272 734198 714709\n",
      " 759481 769935 728996 691604 719692 720151 760313 691919 723987 742018\n",
      " 742175 710210 713525 713948 702819 714834 752599 724886 733154 764627\n",
      " 716910 733498 754298 694089 700979 741940 744575 725594 702916 701234]\n"
     ]
    }
   ],
   "source": [
    "bizs_prs = pr[no_usrs:]\n",
    "top_BIZ_INDXS = (np.array(heapq.nlargest(100, range(len(bizs_prs)), bizs_prs.take)) + no_usrs)\n",
    "print(top_BIZ_INDXS)"
   ]
  },
  {
   "cell_type": "markdown",
   "metadata": {},
   "source": [
    "Finding ids and page ranks of top 100 businesses"
   ]
  },
  {
   "cell_type": "code",
   "execution_count": 30,
   "metadata": {
    "collapsed": false
   },
   "outputs": [],
   "source": [
    "top_BIZ_IDS = []\n",
    "top_BIZ_PRS = []\n",
    "for index in top_BIZ_INDXS:\n",
    "    top_BIZ_IDS.append(NODES[index])\n",
    "    top_BIZ_PRS.append(pr[index,0])"
   ]
  },
  {
   "cell_type": "markdown",
   "metadata": {},
   "source": [
    "Making sure all are top ids are all businesses"
   ]
  },
  {
   "cell_type": "code",
   "execution_count": 31,
   "metadata": {
    "collapsed": false
   },
   "outputs": [],
   "source": [
    "for ids in top_BIZ_IDS:\n",
    "    if(ids not in BIZS):\n",
    "        print(ids)\n"
   ]
  },
  {
   "cell_type": "markdown",
   "metadata": {},
   "source": [
    "Printing degrees of top 100 businesses, trying to see if there is some correlation between degrees and ranks"
   ]
  },
  {
   "cell_type": "code",
   "execution_count": 69,
   "metadata": {
    "collapsed": false
   },
   "outputs": [
    {
     "name": "stdout",
     "output_type": "stream",
     "text": [
      "business iUPJmJvHy9fVfRxsuwwdLQ, has degree 3577 with pr 0.001189\n",
      "business 4bEjOyTaDG24SY5TxsaUNQ, has degree 5552 with pr 0.001025\n",
      "business aGbjLWzcrnEx2ZmMCFm3EA, has degree 4148 with pr 0.000851\n",
      "business sIyHTizqAiGu12XMLX3N3g, has degree 4526 with pr 0.000844\n",
      "business zt1TpTuJ6y9n551sw9TaEg, has degree 4328 with pr 0.000773\n",
      "business 2e2e7WgqU1BnpxmQL5jbfw, has degree 4099 with pr 0.000704\n",
      "business QbmcCE_cLq4WO8ZMKImaLw, has degree 3197 with pr 0.000626\n",
      "business Xhg93cMdemu5pAMkDoEdtQ, has degree 3321 with pr 0.000594\n",
      "business JpHE7yhMS5ehA9e8WG_ETg, has degree 2792 with pr 0.000537\n",
      "business YNQgak-ZLtYJQxlDwN-qIg, has degree 3104 with pr 0.000530\n",
      "business 6LM_Klmp3hOP0JmsMCKRqQ, has degree 2548 with pr 0.000525\n",
      "business AtjsjFzalWqJ7S9DUFQ4bw, has degree 2861 with pr 0.000525\n",
      "business lliksv-tglfUz1T3B3vgvA, has degree 2908 with pr 0.000522\n",
      "business CZjcFdvJhksq9dy58NVEzw, has degree 2832 with pr 0.000498\n",
      "business tFU2Js_nbIZOrnKfYJYBBg, has degree 2778 with pr 0.000492\n",
      "business mDdqifuTrfXAOfxiLMGu5Q, has degree 2249 with pr 0.000490\n",
      "business eq6lQI039SBLC6sHm3idGA, has degree 2700 with pr 0.000465\n",
      "business eWPFXL1Bmu1ImtIa2Rqliw, has degree 2456 with pr 0.000462\n",
      "business NGJDjdiDJHmN2xxU7KauuA, has degree 2078 with pr 0.000452\n",
      "business Es300Ys1XXPYg8aI7BKVYQ, has degree 2543 with pr 0.000443\n",
      "business g3jYo6FIfkVlNBk2zOWoig, has degree 1098 with pr 0.000441\n",
      "business xfwRO04KbAPw_zRotCfWQQ, has degree 2575 with pr 0.000435\n",
      "business DO3Gk17RyJVW7zYMCtYPnw, has degree 2368 with pr 0.000433\n",
      "business r1YB-iVpNM8oP2eEqyaVbg, has degree 1880 with pr 0.000421\n",
      "business 1yx2zLskVTe5WQdYjL2Apw, has degree 1896 with pr 0.000420\n",
      "business 34uJtlPnKicSaX1V8_tu1A, has degree 2248 with pr 0.000401\n",
      "business PXviRcHR1mqdH4vRc2LEAQ, has degree 2386 with pr 0.000392\n",
      "business uJYw4p59AKh8c8h5yWMdOw, has degree 2014 with pr 0.000373\n",
      "business jf67Z1pnwElRSXllpQHiJg, has degree 2342 with pr 0.000364\n",
      "business G0nUhYF2q4tnoOPwCjXLig, has degree 1811 with pr 0.000362\n",
      "business A3Jv-FFRsDEWXxKJ6ZIxfg, has degree 1707 with pr 0.000360\n",
      "business ateowLnq6kpgNNWHzCDByQ, has degree 1667 with pr 0.000358\n",
      "business BqrTtox0JbG-P_DKBB5bBw, has degree 2073 with pr 0.000355\n",
      "business -7yF42k0CcJhtPw51oaOqQ, has degree 1968 with pr 0.000349\n",
      "business TWD8c5-P7w9v-2KX_GSNZQ, has degree 1858 with pr 0.000344\n",
      "business ripCiWZ0MblMZSLrIKQAKA, has degree 1695 with pr 0.000337\n",
      "business s5-VDvUqyYnD8RG3LPqnbQ, has degree 1609 with pr 0.000334\n",
      "business WIlklz81DcJkUWJThbnJbQ, has degree 1697 with pr 0.000333\n",
      "business xyTJYlbE_MLouK6rCou6zg, has degree 2001 with pr 0.000332\n",
      "business SsTxjxo8qvqBMvan1rzNzg, has degree 1875 with pr 0.000330\n",
      "business u9wjRhUjySkHPa_hG3kFOg, has degree 1743 with pr 0.000324\n",
      "business HbUQ_3dlm3uCacmhTEMnuA, has degree 1650 with pr 0.000320\n",
      "business jOuERtVf7QePnK9ZcdH5XA, has degree 1881 with pr 0.000318\n",
      "business z3SyT8blMIhsZNvKJgKcRA, has degree 1728 with pr 0.000317\n",
      "business FV16IeXJp2W6pnghTz2FAw, has degree 1921 with pr 0.000317\n",
      "business 05fTEsjUPVo5jks8PpNKCQ, has degree 1727 with pr 0.000314\n",
      "business _v6HIliEOn0l0YaAmBOrxw, has degree 1619 with pr 0.000314\n",
      "business kEC7OlpPnZRxCUyVwq7hig, has degree 1522 with pr 0.000310\n",
      "business WT-v-DgQvW38DewVyTLdTA, has degree 1415 with pr 0.000308\n",
      "business PqTX5j9yfsPbd1qQCA1EwA, has degree 1805 with pr 0.000307\n",
      "business NsnZ5GhagXBKrCOelxVQxw, has degree 1555 with pr 0.000305\n",
      "business Ht8mXLuqJSTPrU9kvzosUA, has degree 1764 with pr 0.000305\n",
      "business 5paMI5Hhciyl09yGpzdoJw, has degree 1723 with pr 0.000296\n",
      "business QhwkFogGQA-Ar176Ul5PUQ, has degree 1584 with pr 0.000290\n",
      "business 6i8vY-6gCQd5v6lZ8yne5Q, has degree 1272 with pr 0.000280\n",
      "business bYhpy9u8fKkGhYHtvYXazQ, has degree 1474 with pr 0.000278\n",
      "business IRYj1b1-mlXqABVsl9SoqQ, has degree 1437 with pr 0.000272\n",
      "business tqu42L0qXzkvYKSruOz0IA, has degree 1548 with pr 0.000271\n",
      "business hW0Ne_HTHEAgGF1rAdmR-g, has degree 1705 with pr 0.000271\n",
      "business rBPQuQgTcMtUq5-RYhY2uQ, has degree 1540 with pr 0.000267\n",
      "business 8IMEf_cj8KyTQojhNOyoPg, has degree 1363 with pr 0.000265\n",
      "business HyfFenprdpIA4rmKu6DW3g, has degree 1475 with pr 0.000263\n",
      "business DUdBbrvqfaqUe9GYKmYNtA, has degree 1456 with pr 0.000262\n",
      "business DjOxXobyGDwWt89q4z1twg, has degree 1672 with pr 0.000261\n",
      "business LLDGTT7FExklkQvHebEjRg, has degree 1398 with pr 0.000255\n",
      "business eP9T-2a94ChFAl1Rd2R0jg, has degree 1212 with pr 0.000253\n",
      "business SHfUGBOznEtDhK6WbVrvIw, has degree 1286 with pr 0.000248\n",
      "business vxxMqBaAHuWdx4impsLSSA, has degree 1531 with pr 0.000245\n",
      "business ZP6qFq7LUh6Tr7WHPoOW6g, has degree 1383 with pr 0.000243\n",
      "business KjymOs12Mpy0Kd54b7T9MA, has degree 1291 with pr 0.000242\n",
      "business rZbHg4ACfN3iShdsT47WKQ, has degree 1444 with pr 0.000240\n",
      "business zTCCbg7mGslxACL5KlAPIQ, has degree 1348 with pr 0.000240\n",
      "business VVeogjZya58oiTxK7qUjAQ, has degree 1572 with pr 0.000239\n",
      "business 3Q0QQPnHcJuX1DLCL9G9Cg, has degree 1181 with pr 0.000239\n",
      "business OUpcKYGbVYgSS1Oo7aQ56Q, has degree 1259 with pr 0.000239\n",
      "business OoeTGTkxvSZqqicZ8ljJjw, has degree 1162 with pr 0.000237\n",
      "business sAOpm86A4ukUhY5men3Xbg, has degree 1162 with pr 0.000235\n",
      "business 3f-RP2-EE94eifGnepUBpg, has degree 1405 with pr 0.000234\n",
      "business RhbOa-Ft3sZB4B_1j5LfyA, has degree 1052 with pr 0.000233\n",
      "business eLPld7Q17XxlclFGzZQX5g, has degree 1371 with pr 0.000233\n",
      "business eRRyfI6QVvSviirRF8UGzQ, has degree 1270 with pr 0.000232\n",
      "business HMr_KN63f6MzM9h8Wije3Q, has degree 1287 with pr 0.000231\n",
      "business JokKtdXU7zXHcr20Lrk29A, has degree 1608 with pr 0.000229\n",
      "business K8dQr_82-DMpDudEv8PDmw, has degree 1101 with pr 0.000225\n",
      "business BqD7X5CHXnJ14YbBBlLx1w, has degree 1217 with pr 0.000222\n",
      "business KpZLxHrp2PIP8tLBsPLiww, has degree 1129 with pr 0.000221\n",
      "business mPDE4dMqAyLZNCR-tEYQ5w, has degree 1332 with pr 0.000220\n",
      "business SLyacGZuMUKqrQJEooSkjw, has degree 1297 with pr 0.000219\n",
      "business YacTpiq0ZptFcXD7I-kdGA, has degree 1146 with pr 0.000215\n",
      "business vT12uXtdBQ10_lUcl-M40w, has degree 1114 with pr 0.000215\n",
      "business MN0OLvP8i0SirMJ7AMuMzA, has degree 1273 with pr 0.000214\n",
      "business YrIfgzLj0DPStJ1ESAS_Qg, has degree 1261 with pr 0.000209\n",
      "business ngNvH4sxnH9aMukTZ67R_Q, has degree 1231 with pr 0.000207\n",
      "business 5GKbGn9-fAgQ0njSh3OJ8A, has degree 1172 with pr 0.000205\n",
      "business ASOiJ8MmbBTgK2D1_MQrqg, has degree 1086 with pr 0.000205\n",
      "business eI28wIzw6ZclI9jGXhtbow, has degree 1111 with pr 0.000204\n",
      "business gGeVLZ9j_wAYKbaqgnKSJA, has degree 1052 with pr 0.000203\n",
      "business SsGNAc9U-aKPZccnaDtFkA, has degree 1093 with pr 0.000203\n",
      "business BuJ40Y7c_ERYmkQGoFb8zQ, has degree 1001 with pr 0.000203\n",
      "business AeKTQBtPRDHLAFL9bzbUnA, has degree 1305 with pr 0.000203\n"
     ]
    }
   ],
   "source": [
    "for i in range(0,100):\n",
    "    print(\"business %s, has degree %d with pr %f\"%(top_BIZ_IDS[i],np.count_nonzero(EDGES_MAT == top_BIZ_IDS[i]), top_BIZ_PRS[i]))"
   ]
  },
  {
   "cell_type": "markdown",
   "metadata": {},
   "source": [
    "Observation :\n",
    "    If we look at above (rank, degree) pair, It looks to be almost in the increasing order of degrees, it is not exactly sorted by degrees, but the correlation between degrees and rank is looking quite high."
   ]
  },
  {
   "cell_type": "markdown",
   "metadata": {},
   "source": [
    "Storing the result in required format"
   ]
  },
  {
   "cell_type": "code",
   "execution_count": 70,
   "metadata": {
    "collapsed": false
   },
   "outputs": [],
   "source": [
    "index = []\n",
    "count = 100\n",
    "for i in range(0,100):\n",
    "    index.append('Top%d' % (count,))\n",
    "    count = count - 1\n",
    "ranks = pd.DataFrame()\n",
    "ranks['head'] = index\n",
    "ranks['businessId'] = top_BIZ_IDS\n",
    "ranks['pagerank'] = top_BIZ_PRS"
   ]
  },
  {
   "cell_type": "code",
   "execution_count": 71,
   "metadata": {
    "collapsed": false
   },
   "outputs": [],
   "source": [
    "ranks.set_index('head', inplace=True)"
   ]
  },
  {
   "cell_type": "code",
   "execution_count": 72,
   "metadata": {
    "collapsed": true
   },
   "outputs": [],
   "source": [
    "ranks.to_json('HW3.json', orient='index')"
   ]
  },
  {
   "cell_type": "markdown",
   "metadata": {},
   "source": [
    "# Task 3"
   ]
  },
  {
   "cell_type": "markdown",
   "metadata": {},
   "source": [
    "We will extract review count and starts which can be used towards the ranking of businesses"
   ]
  },
  {
   "cell_type": "code",
   "execution_count": 36,
   "metadata": {
    "collapsed": false
   },
   "outputs": [
    {
     "name": "stderr",
     "output_type": "stream",
     "text": [
      "/home/shilpa/anaconda2/lib/python2.7/site-packages/IPython/core/interactiveshell.py:2717: DtypeWarning: Columns (6,7,11,25,26) have mixed types. Specify dtype option on import or set low_memory=False.\n",
      "  interactivity=interactivity, compiler=compiler, result=result)\n"
     ]
    }
   ],
   "source": [
    "df_biz = pd.read_csv('data/yelp_academic_dataset_business.csv')\n",
    "df_bizrank = df_biz[['business_id','review_count','stars']]"
   ]
  },
  {
   "cell_type": "markdown",
   "metadata": {},
   "source": [
    "keeping only valid value of bunisses"
   ]
  },
  {
   "cell_type": "code",
   "execution_count": 37,
   "metadata": {
    "collapsed": false
   },
   "outputs": [],
   "source": [
    "cleanbizids = pd.read_csv('data/bizs_ids_clean.csv').as_matrix()\n",
    "cleanbizids = cleanbizids.flatten()\n",
    "df_bizrank = df_bizrank[df_bizrank['business_id'].isin(cleanbizids)]"
   ]
  },
  {
   "cell_type": "markdown",
   "metadata": {},
   "source": [
    "number of check-ins, is also a indicator of how popular a business is , it can also be used"
   ]
  },
  {
   "cell_type": "code",
   "execution_count": 38,
   "metadata": {
    "collapsed": false
   },
   "outputs": [
    {
     "data": {
      "text/html": [
       "<div>\n",
       "<table border=\"1\" class=\"dataframe\">\n",
       "  <thead>\n",
       "    <tr style=\"text-align: right;\">\n",
       "      <th></th>\n",
       "      <th>business_id</th>\n",
       "      <th>review_count</th>\n",
       "      <th>stars</th>\n",
       "      <th>checkin_count</th>\n",
       "    </tr>\n",
       "  </thead>\n",
       "  <tbody>\n",
       "    <tr>\n",
       "      <th>0</th>\n",
       "      <td>5UmKMjUEUNdYWqANhGckJw</td>\n",
       "      <td>7</td>\n",
       "      <td>3.5</td>\n",
       "      <td>0.0</td>\n",
       "    </tr>\n",
       "    <tr>\n",
       "      <th>1</th>\n",
       "      <td>UsFtqoBl7naz8AVUBZMjQQ</td>\n",
       "      <td>5</td>\n",
       "      <td>3.0</td>\n",
       "      <td>0.0</td>\n",
       "    </tr>\n",
       "    <tr>\n",
       "      <th>2</th>\n",
       "      <td>cE27W9VPgO88Qxe4ol6y_g</td>\n",
       "      <td>5</td>\n",
       "      <td>2.5</td>\n",
       "      <td>9.0</td>\n",
       "    </tr>\n",
       "    <tr>\n",
       "      <th>3</th>\n",
       "      <td>mVHrayjG3uZ_RLHkLj-AMg</td>\n",
       "      <td>26</td>\n",
       "      <td>4.5</td>\n",
       "      <td>28.0</td>\n",
       "    </tr>\n",
       "    <tr>\n",
       "      <th>4</th>\n",
       "      <td>mYSpR_SLPgUVymYOvTQd_Q</td>\n",
       "      <td>3</td>\n",
       "      <td>5.0</td>\n",
       "      <td>8.0</td>\n",
       "    </tr>\n",
       "    <tr>\n",
       "      <th>5</th>\n",
       "      <td>KayYbHCt-RkbGcPdGOThNg</td>\n",
       "      <td>23</td>\n",
       "      <td>4.0</td>\n",
       "      <td>65.0</td>\n",
       "    </tr>\n",
       "    <tr>\n",
       "      <th>6</th>\n",
       "      <td>b12U9TFESStdy7CsTtcOeg</td>\n",
       "      <td>9</td>\n",
       "      <td>2.5</td>\n",
       "      <td>7.0</td>\n",
       "    </tr>\n",
       "    <tr>\n",
       "      <th>7</th>\n",
       "      <td>Sktj1eHQFuVa-M4bgnEh8g</td>\n",
       "      <td>4</td>\n",
       "      <td>4.0</td>\n",
       "      <td>0.0</td>\n",
       "    </tr>\n",
       "    <tr>\n",
       "      <th>8</th>\n",
       "      <td>3ZVKmuK2l7uXPE6lXY4Dbg</td>\n",
       "      <td>3</td>\n",
       "      <td>2.5</td>\n",
       "      <td>0.0</td>\n",
       "    </tr>\n",
       "    <tr>\n",
       "      <th>9</th>\n",
       "      <td>QoDa50dc7g62xciFygXB9w</td>\n",
       "      <td>7</td>\n",
       "      <td>4.0</td>\n",
       "      <td>7.0</td>\n",
       "    </tr>\n",
       "  </tbody>\n",
       "</table>\n",
       "</div>"
      ],
      "text/plain": [
       "              business_id  review_count  stars  checkin_count\n",
       "0  5UmKMjUEUNdYWqANhGckJw             7    3.5            0.0\n",
       "1  UsFtqoBl7naz8AVUBZMjQQ             5    3.0            0.0\n",
       "2  cE27W9VPgO88Qxe4ol6y_g             5    2.5            9.0\n",
       "3  mVHrayjG3uZ_RLHkLj-AMg            26    4.5           28.0\n",
       "4  mYSpR_SLPgUVymYOvTQd_Q             3    5.0            8.0\n",
       "5  KayYbHCt-RkbGcPdGOThNg            23    4.0           65.0\n",
       "6  b12U9TFESStdy7CsTtcOeg             9    2.5            7.0\n",
       "7  Sktj1eHQFuVa-M4bgnEh8g             4    4.0            0.0\n",
       "8  3ZVKmuK2l7uXPE6lXY4Dbg             3    2.5            0.0\n",
       "9  QoDa50dc7g62xciFygXB9w             7    4.0            7.0"
      ]
     },
     "execution_count": 38,
     "metadata": {},
     "output_type": "execute_result"
    }
   ],
   "source": [
    "checkin_table = pd.read_csv('data/yelp_academic_dataset_checkin.csv')\n",
    "\n",
    "#replacing NaN's with 0\n",
    "checkin_table.fillna(value=0, inplace=True)\n",
    "\n",
    "# storing count of check-ins for each business\n",
    "checkin_table['checkin_count'] = checkin_table.sum(axis=1)\n",
    "checkin_table = checkin_table[['checkin_count','business_id']]\n",
    "\n",
    "# merging check-in count with out original data Frame\n",
    "df_bizrank = pd.merge(df_bizrank,checkin_table,how='left',on='business_id')\n",
    "\n",
    "# replacing NaN's with 0\n",
    "df_bizrank.fillna(value=0, inplace=True)\n",
    "df_bizrank.head(10)"
   ]
  },
  {
   "cell_type": "markdown",
   "metadata": {},
   "source": [
    "Tip count can also be counted toward popularity of businesses"
   ]
  },
  {
   "cell_type": "code",
   "execution_count": 39,
   "metadata": {
    "collapsed": false
   },
   "outputs": [
    {
     "data": {
      "text/html": [
       "<div>\n",
       "<table border=\"1\" class=\"dataframe\">\n",
       "  <thead>\n",
       "    <tr style=\"text-align: right;\">\n",
       "      <th></th>\n",
       "      <th>business_id</th>\n",
       "      <th>tips_count</th>\n",
       "    </tr>\n",
       "  </thead>\n",
       "  <tbody>\n",
       "    <tr>\n",
       "      <th>0</th>\n",
       "      <td>--0ZoBTQWQra1FxD4rBWmg</td>\n",
       "      <td>2</td>\n",
       "    </tr>\n",
       "    <tr>\n",
       "      <th>1</th>\n",
       "      <td>--1emggGHgoG6ipd_RMb-g</td>\n",
       "      <td>7</td>\n",
       "    </tr>\n",
       "    <tr>\n",
       "      <th>2</th>\n",
       "      <td>--4Pe8BZ6gj57VFL5mUE8g</td>\n",
       "      <td>2</td>\n",
       "    </tr>\n",
       "    <tr>\n",
       "      <th>3</th>\n",
       "      <td>--5jkZ3-nUPZxUvtcbr8Uw</td>\n",
       "      <td>27</td>\n",
       "    </tr>\n",
       "    <tr>\n",
       "      <th>4</th>\n",
       "      <td>--BlvDO_RG2yElKu9XA1_g</td>\n",
       "      <td>23</td>\n",
       "    </tr>\n",
       "    <tr>\n",
       "      <th>5</th>\n",
       "      <td>--Dl2rW_xO8GuYBomlg9zw</td>\n",
       "      <td>1</td>\n",
       "    </tr>\n",
       "    <tr>\n",
       "      <th>6</th>\n",
       "      <td>--NCcmQqh_NZbjW1S5XsGQ</td>\n",
       "      <td>1</td>\n",
       "    </tr>\n",
       "    <tr>\n",
       "      <th>7</th>\n",
       "      <td>--UE_y6auTgq3FXlvUMkbw</td>\n",
       "      <td>40</td>\n",
       "    </tr>\n",
       "    <tr>\n",
       "      <th>8</th>\n",
       "      <td>--XBxRlD92RaV6TyUnP8Ow</td>\n",
       "      <td>2</td>\n",
       "    </tr>\n",
       "    <tr>\n",
       "      <th>9</th>\n",
       "      <td>--Y_2lDOtVDioX5bwF6GIw</td>\n",
       "      <td>11</td>\n",
       "    </tr>\n",
       "  </tbody>\n",
       "</table>\n",
       "</div>"
      ],
      "text/plain": [
       "              business_id  tips_count\n",
       "0  --0ZoBTQWQra1FxD4rBWmg           2\n",
       "1  --1emggGHgoG6ipd_RMb-g           7\n",
       "2  --4Pe8BZ6gj57VFL5mUE8g           2\n",
       "3  --5jkZ3-nUPZxUvtcbr8Uw          27\n",
       "4  --BlvDO_RG2yElKu9XA1_g          23\n",
       "5  --Dl2rW_xO8GuYBomlg9zw           1\n",
       "6  --NCcmQqh_NZbjW1S5XsGQ           1\n",
       "7  --UE_y6auTgq3FXlvUMkbw          40\n",
       "8  --XBxRlD92RaV6TyUnP8Ow           2\n",
       "9  --Y_2lDOtVDioX5bwF6GIw          11"
      ]
     },
     "execution_count": 39,
     "metadata": {},
     "output_type": "execute_result"
    }
   ],
   "source": [
    "# Extracting out tips count of different businesses\n",
    "df_tips = pd.read_csv('data/yelp_academic_dataset_tip.csv')\n",
    "tips_count = df_tips.groupby(['business_id']).size()\n",
    "df_tips_count = pd.DataFrame()\n",
    "df_tips_count['business_id'] = tips_count.index\n",
    "df_tips_count['tips_count'] = tips_count.values\n",
    "df_tips_count.head(10)"
   ]
  },
  {
   "cell_type": "code",
   "execution_count": 40,
   "metadata": {
    "collapsed": false
   },
   "outputs": [],
   "source": [
    "# merging with main data frame\n",
    "df_bizrank = pd.merge(df_bizrank,df_tips_count,how='left',on='business_id')"
   ]
  },
  {
   "cell_type": "code",
   "execution_count": 41,
   "metadata": {
    "collapsed": false
   },
   "outputs": [
    {
     "data": {
      "text/html": [
       "<div>\n",
       "<table border=\"1\" class=\"dataframe\">\n",
       "  <thead>\n",
       "    <tr style=\"text-align: right;\">\n",
       "      <th></th>\n",
       "      <th>business_id</th>\n",
       "      <th>review_count</th>\n",
       "      <th>stars</th>\n",
       "      <th>checkin_count</th>\n",
       "      <th>tips_count</th>\n",
       "    </tr>\n",
       "  </thead>\n",
       "  <tbody>\n",
       "    <tr>\n",
       "      <th>0</th>\n",
       "      <td>5UmKMjUEUNdYWqANhGckJw</td>\n",
       "      <td>7</td>\n",
       "      <td>3.5</td>\n",
       "      <td>0.0</td>\n",
       "      <td>1.0</td>\n",
       "    </tr>\n",
       "    <tr>\n",
       "      <th>1</th>\n",
       "      <td>UsFtqoBl7naz8AVUBZMjQQ</td>\n",
       "      <td>5</td>\n",
       "      <td>3.0</td>\n",
       "      <td>0.0</td>\n",
       "      <td>0.0</td>\n",
       "    </tr>\n",
       "    <tr>\n",
       "      <th>2</th>\n",
       "      <td>cE27W9VPgO88Qxe4ol6y_g</td>\n",
       "      <td>5</td>\n",
       "      <td>2.5</td>\n",
       "      <td>9.0</td>\n",
       "      <td>1.0</td>\n",
       "    </tr>\n",
       "    <tr>\n",
       "      <th>3</th>\n",
       "      <td>mVHrayjG3uZ_RLHkLj-AMg</td>\n",
       "      <td>26</td>\n",
       "      <td>4.5</td>\n",
       "      <td>28.0</td>\n",
       "      <td>2.0</td>\n",
       "    </tr>\n",
       "    <tr>\n",
       "      <th>4</th>\n",
       "      <td>mYSpR_SLPgUVymYOvTQd_Q</td>\n",
       "      <td>3</td>\n",
       "      <td>5.0</td>\n",
       "      <td>8.0</td>\n",
       "      <td>0.0</td>\n",
       "    </tr>\n",
       "    <tr>\n",
       "      <th>5</th>\n",
       "      <td>KayYbHCt-RkbGcPdGOThNg</td>\n",
       "      <td>23</td>\n",
       "      <td>4.0</td>\n",
       "      <td>65.0</td>\n",
       "      <td>4.0</td>\n",
       "    </tr>\n",
       "    <tr>\n",
       "      <th>6</th>\n",
       "      <td>b12U9TFESStdy7CsTtcOeg</td>\n",
       "      <td>9</td>\n",
       "      <td>2.5</td>\n",
       "      <td>7.0</td>\n",
       "      <td>0.0</td>\n",
       "    </tr>\n",
       "    <tr>\n",
       "      <th>7</th>\n",
       "      <td>Sktj1eHQFuVa-M4bgnEh8g</td>\n",
       "      <td>4</td>\n",
       "      <td>4.0</td>\n",
       "      <td>0.0</td>\n",
       "      <td>0.0</td>\n",
       "    </tr>\n",
       "    <tr>\n",
       "      <th>8</th>\n",
       "      <td>3ZVKmuK2l7uXPE6lXY4Dbg</td>\n",
       "      <td>3</td>\n",
       "      <td>2.5</td>\n",
       "      <td>0.0</td>\n",
       "      <td>0.0</td>\n",
       "    </tr>\n",
       "    <tr>\n",
       "      <th>9</th>\n",
       "      <td>QoDa50dc7g62xciFygXB9w</td>\n",
       "      <td>7</td>\n",
       "      <td>4.0</td>\n",
       "      <td>7.0</td>\n",
       "      <td>0.0</td>\n",
       "    </tr>\n",
       "  </tbody>\n",
       "</table>\n",
       "</div>"
      ],
      "text/plain": [
       "              business_id  review_count  stars  checkin_count  tips_count\n",
       "0  5UmKMjUEUNdYWqANhGckJw             7    3.5            0.0         1.0\n",
       "1  UsFtqoBl7naz8AVUBZMjQQ             5    3.0            0.0         0.0\n",
       "2  cE27W9VPgO88Qxe4ol6y_g             5    2.5            9.0         1.0\n",
       "3  mVHrayjG3uZ_RLHkLj-AMg            26    4.5           28.0         2.0\n",
       "4  mYSpR_SLPgUVymYOvTQd_Q             3    5.0            8.0         0.0\n",
       "5  KayYbHCt-RkbGcPdGOThNg            23    4.0           65.0         4.0\n",
       "6  b12U9TFESStdy7CsTtcOeg             9    2.5            7.0         0.0\n",
       "7  Sktj1eHQFuVa-M4bgnEh8g             4    4.0            0.0         0.0\n",
       "8  3ZVKmuK2l7uXPE6lXY4Dbg             3    2.5            0.0         0.0\n",
       "9  QoDa50dc7g62xciFygXB9w             7    4.0            7.0         0.0"
      ]
     },
     "execution_count": 41,
     "metadata": {},
     "output_type": "execute_result"
    }
   ],
   "source": [
    "df_bizrank.fillna(0, inplace=True)\n",
    "df_bizrank.head(10)"
   ]
  },
  {
   "cell_type": "markdown",
   "metadata": {},
   "source": [
    "For 5th column we can take in to account number of facilities available, \n",
    "which we can count by looking at different attributes"
   ]
  },
  {
   "cell_type": "code",
   "execution_count": 42,
   "metadata": {
    "collapsed": false
   },
   "outputs": [
    {
     "name": "stderr",
     "output_type": "stream",
     "text": [
      "/home/shilpa/anaconda2/lib/python2.7/site-packages/pandas/core/frame.py:2762: SettingWithCopyWarning: \n",
      "A value is trying to be set on a copy of a slice from a DataFrame\n",
      "\n",
      "See the caveats in the documentation: http://pandas.pydata.org/pandas-docs/stable/indexing.html#indexing-view-versus-copy\n",
      "  downcast=downcast, **kwargs)\n",
      "/home/shilpa/anaconda2/lib/python2.7/site-packages/ipykernel/__main__.py:9: SettingWithCopyWarning: \n",
      "A value is trying to be set on a copy of a slice from a DataFrame\n",
      "\n",
      "See the caveats in the documentation: http://pandas.pydata.org/pandas-docs/stable/indexing.html#indexing-view-versus-copy\n",
      "/home/shilpa/anaconda2/lib/python2.7/site-packages/ipykernel/__main__.py:10: SettingWithCopyWarning: \n",
      "A value is trying to be set on a copy of a slice from a DataFrame\n",
      "\n",
      "See the caveats in the documentation: http://pandas.pydata.org/pandas-docs/stable/indexing.html#indexing-view-versus-copy\n",
      "/home/shilpa/anaconda2/lib/python2.7/site-packages/ipykernel/__main__.py:11: SettingWithCopyWarning: \n",
      "A value is trying to be set on a copy of a slice from a DataFrame.\n",
      "Try using .loc[row_indexer,col_indexer] = value instead\n",
      "\n",
      "See the caveats in the documentation: http://pandas.pydata.org/pandas-docs/stable/indexing.html#indexing-view-versus-copy\n"
     ]
    },
    {
     "data": {
      "text/html": [
       "<div>\n",
       "<table border=\"1\" class=\"dataframe\">\n",
       "  <thead>\n",
       "    <tr style=\"text-align: right;\">\n",
       "      <th></th>\n",
       "      <th>business_id</th>\n",
       "      <th>fac_count</th>\n",
       "    </tr>\n",
       "  </thead>\n",
       "  <tbody>\n",
       "    <tr>\n",
       "      <th>0</th>\n",
       "      <td>5UmKMjUEUNdYWqANhGckJw</td>\n",
       "      <td>4</td>\n",
       "    </tr>\n",
       "    <tr>\n",
       "      <th>1</th>\n",
       "      <td>UsFtqoBl7naz8AVUBZMjQQ</td>\n",
       "      <td>3</td>\n",
       "    </tr>\n",
       "    <tr>\n",
       "      <th>2</th>\n",
       "      <td>cE27W9VPgO88Qxe4ol6y_g</td>\n",
       "      <td>1</td>\n",
       "    </tr>\n",
       "    <tr>\n",
       "      <th>3</th>\n",
       "      <td>mVHrayjG3uZ_RLHkLj-AMg</td>\n",
       "      <td>7</td>\n",
       "    </tr>\n",
       "    <tr>\n",
       "      <th>4</th>\n",
       "      <td>mYSpR_SLPgUVymYOvTQd_Q</td>\n",
       "      <td>4</td>\n",
       "    </tr>\n",
       "    <tr>\n",
       "      <th>5</th>\n",
       "      <td>KayYbHCt-RkbGcPdGOThNg</td>\n",
       "      <td>7</td>\n",
       "    </tr>\n",
       "    <tr>\n",
       "      <th>6</th>\n",
       "      <td>b12U9TFESStdy7CsTtcOeg</td>\n",
       "      <td>1</td>\n",
       "    </tr>\n",
       "    <tr>\n",
       "      <th>7</th>\n",
       "      <td>Sktj1eHQFuVa-M4bgnEh8g</td>\n",
       "      <td>1</td>\n",
       "    </tr>\n",
       "    <tr>\n",
       "      <th>8</th>\n",
       "      <td>3ZVKmuK2l7uXPE6lXY4Dbg</td>\n",
       "      <td>0</td>\n",
       "    </tr>\n",
       "    <tr>\n",
       "      <th>9</th>\n",
       "      <td>QoDa50dc7g62xciFygXB9w</td>\n",
       "      <td>0</td>\n",
       "    </tr>\n",
       "  </tbody>\n",
       "</table>\n",
       "</div>"
      ],
      "text/plain": [
       "              business_id  fac_count\n",
       "0  5UmKMjUEUNdYWqANhGckJw          4\n",
       "1  UsFtqoBl7naz8AVUBZMjQQ          3\n",
       "2  cE27W9VPgO88Qxe4ol6y_g          1\n",
       "3  mVHrayjG3uZ_RLHkLj-AMg          7\n",
       "4  mYSpR_SLPgUVymYOvTQd_Q          4\n",
       "5  KayYbHCt-RkbGcPdGOThNg          7\n",
       "6  b12U9TFESStdy7CsTtcOeg          1\n",
       "7  Sktj1eHQFuVa-M4bgnEh8g          1\n",
       "8  3ZVKmuK2l7uXPE6lXY4Dbg          0\n",
       "9  QoDa50dc7g62xciFygXB9w          0"
      ]
     },
     "execution_count": 42,
     "metadata": {},
     "output_type": "execute_result"
    }
   ],
   "source": [
    "df_facilities = df_biz[['business_id','attributes_Accepts Credit Cards','attributes_BYOB',\n",
    "                        'attributes_Caters','attributes_Coat Check','attributes_Delivery','attributes_Dogs Allowed',\n",
    "                       'attributes_Good For Dancing','attributes_Good For Groups','attributes_Good for Kids',\n",
    "                        'attributes_Happy Hour','attributes_Has TV','attributes_Open 24 Hours','attributes_Order at Counter'\n",
    "                       ,'attributes_Outdoor Seating','attributes_Take-out','attributes_Takes Reservations',\n",
    "                        'attributes_Waiter Service','attributes_Wheelchair Accessible']]\n",
    "\n",
    "df_facilities.fillna(0, inplace=True)\n",
    "df_facilities.replace(to_replace=True, value=1, inplace=True)\n",
    "df_facilities.replace(to_replace=False, value=0, inplace=True)\n",
    "df_facilities['fac_count'] = df_facilities.sum(axis=1)\n",
    "df_facilities = df_facilities[['business_id','fac_count']]\n",
    "df_facilities.head(10)"
   ]
  },
  {
   "cell_type": "code",
   "execution_count": 43,
   "metadata": {
    "collapsed": true
   },
   "outputs": [],
   "source": [
    "# merging facilities count with main data frame\n",
    "df_bizrank = pd.merge(df_bizrank,df_facilities,how='left',on='business_id')"
   ]
  },
  {
   "cell_type": "code",
   "execution_count": 44,
   "metadata": {
    "collapsed": false
   },
   "outputs": [
    {
     "data": {
      "text/html": [
       "<div>\n",
       "<table border=\"1\" class=\"dataframe\">\n",
       "  <thead>\n",
       "    <tr style=\"text-align: right;\">\n",
       "      <th></th>\n",
       "      <th>review_count</th>\n",
       "      <th>stars</th>\n",
       "      <th>checkin_count</th>\n",
       "      <th>tips_count</th>\n",
       "      <th>fac_count</th>\n",
       "    </tr>\n",
       "    <tr>\n",
       "      <th>business_id</th>\n",
       "      <th></th>\n",
       "      <th></th>\n",
       "      <th></th>\n",
       "      <th></th>\n",
       "      <th></th>\n",
       "    </tr>\n",
       "  </thead>\n",
       "  <tbody>\n",
       "    <tr>\n",
       "      <th>5UmKMjUEUNdYWqANhGckJw</th>\n",
       "      <td>7</td>\n",
       "      <td>3.5</td>\n",
       "      <td>0.0</td>\n",
       "      <td>1.0</td>\n",
       "      <td>4</td>\n",
       "    </tr>\n",
       "    <tr>\n",
       "      <th>UsFtqoBl7naz8AVUBZMjQQ</th>\n",
       "      <td>5</td>\n",
       "      <td>3.0</td>\n",
       "      <td>0.0</td>\n",
       "      <td>0.0</td>\n",
       "      <td>3</td>\n",
       "    </tr>\n",
       "    <tr>\n",
       "      <th>cE27W9VPgO88Qxe4ol6y_g</th>\n",
       "      <td>5</td>\n",
       "      <td>2.5</td>\n",
       "      <td>9.0</td>\n",
       "      <td>1.0</td>\n",
       "      <td>1</td>\n",
       "    </tr>\n",
       "    <tr>\n",
       "      <th>mVHrayjG3uZ_RLHkLj-AMg</th>\n",
       "      <td>26</td>\n",
       "      <td>4.5</td>\n",
       "      <td>28.0</td>\n",
       "      <td>2.0</td>\n",
       "      <td>7</td>\n",
       "    </tr>\n",
       "    <tr>\n",
       "      <th>mYSpR_SLPgUVymYOvTQd_Q</th>\n",
       "      <td>3</td>\n",
       "      <td>5.0</td>\n",
       "      <td>8.0</td>\n",
       "      <td>0.0</td>\n",
       "      <td>4</td>\n",
       "    </tr>\n",
       "    <tr>\n",
       "      <th>KayYbHCt-RkbGcPdGOThNg</th>\n",
       "      <td>23</td>\n",
       "      <td>4.0</td>\n",
       "      <td>65.0</td>\n",
       "      <td>4.0</td>\n",
       "      <td>7</td>\n",
       "    </tr>\n",
       "    <tr>\n",
       "      <th>b12U9TFESStdy7CsTtcOeg</th>\n",
       "      <td>9</td>\n",
       "      <td>2.5</td>\n",
       "      <td>7.0</td>\n",
       "      <td>0.0</td>\n",
       "      <td>1</td>\n",
       "    </tr>\n",
       "    <tr>\n",
       "      <th>Sktj1eHQFuVa-M4bgnEh8g</th>\n",
       "      <td>4</td>\n",
       "      <td>4.0</td>\n",
       "      <td>0.0</td>\n",
       "      <td>0.0</td>\n",
       "      <td>1</td>\n",
       "    </tr>\n",
       "    <tr>\n",
       "      <th>3ZVKmuK2l7uXPE6lXY4Dbg</th>\n",
       "      <td>3</td>\n",
       "      <td>2.5</td>\n",
       "      <td>0.0</td>\n",
       "      <td>0.0</td>\n",
       "      <td>0</td>\n",
       "    </tr>\n",
       "    <tr>\n",
       "      <th>QoDa50dc7g62xciFygXB9w</th>\n",
       "      <td>7</td>\n",
       "      <td>4.0</td>\n",
       "      <td>7.0</td>\n",
       "      <td>0.0</td>\n",
       "      <td>0</td>\n",
       "    </tr>\n",
       "  </tbody>\n",
       "</table>\n",
       "</div>"
      ],
      "text/plain": [
       "                        review_count  stars  checkin_count  tips_count  \\\n",
       "business_id                                                              \n",
       "5UmKMjUEUNdYWqANhGckJw             7    3.5            0.0         1.0   \n",
       "UsFtqoBl7naz8AVUBZMjQQ             5    3.0            0.0         0.0   \n",
       "cE27W9VPgO88Qxe4ol6y_g             5    2.5            9.0         1.0   \n",
       "mVHrayjG3uZ_RLHkLj-AMg            26    4.5           28.0         2.0   \n",
       "mYSpR_SLPgUVymYOvTQd_Q             3    5.0            8.0         0.0   \n",
       "KayYbHCt-RkbGcPdGOThNg            23    4.0           65.0         4.0   \n",
       "b12U9TFESStdy7CsTtcOeg             9    2.5            7.0         0.0   \n",
       "Sktj1eHQFuVa-M4bgnEh8g             4    4.0            0.0         0.0   \n",
       "3ZVKmuK2l7uXPE6lXY4Dbg             3    2.5            0.0         0.0   \n",
       "QoDa50dc7g62xciFygXB9w             7    4.0            7.0         0.0   \n",
       "\n",
       "                        fac_count  \n",
       "business_id                        \n",
       "5UmKMjUEUNdYWqANhGckJw          4  \n",
       "UsFtqoBl7naz8AVUBZMjQQ          3  \n",
       "cE27W9VPgO88Qxe4ol6y_g          1  \n",
       "mVHrayjG3uZ_RLHkLj-AMg          7  \n",
       "mYSpR_SLPgUVymYOvTQd_Q          4  \n",
       "KayYbHCt-RkbGcPdGOThNg          7  \n",
       "b12U9TFESStdy7CsTtcOeg          1  \n",
       "Sktj1eHQFuVa-M4bgnEh8g          1  \n",
       "3ZVKmuK2l7uXPE6lXY4Dbg          0  \n",
       "QoDa50dc7g62xciFygXB9w          0  "
      ]
     },
     "execution_count": 44,
     "metadata": {},
     "output_type": "execute_result"
    }
   ],
   "source": [
    "df_bizrank.set_index('business_id', inplace=True)\n",
    "df_bizrank.head(10)"
   ]
  },
  {
   "cell_type": "markdown",
   "metadata": {},
   "source": [
    "Finding Srearman correlation and p value between different columns "
   ]
  },
  {
   "cell_type": "code",
   "execution_count": null,
   "metadata": {
    "collapsed": false
   },
   "outputs": [],
   "source": [
    "x = df_bizrank['checkin_count']\n",
    "y = df_bizrank['tips_count']\n",
    "exptCorr = stats.spearmanr(x,y)[0]\n",
    "print(exptCorr)\n",
    "countExtreme = 0\n",
    "for i in range(1000) :\n",
    "    y=np.random.permutation(y)\n",
    "    correlation = stats.spearmanr(x,y)[0]\n",
    "    if correlation >= exptCorr:\n",
    "        countExtreme = countExtreme + 1 \n",
    "pvalue = (countExtreme+1)/1001\n",
    "print(pvalue)\n",
    "print(\"corr = %f and p-value = %f\" %(exptCorr,pvalue))"
   ]
  },
  {
   "cell_type": "markdown",
   "metadata": {},
   "source": [
    "Similarly we can find out the p-value for other pairs, below we are reporting the p-value and spearman correlation for all pairs"
   ]
  },
  {
   "cell_type": "code",
   "execution_count": 45,
   "metadata": {
    "collapsed": false
   },
   "outputs": [
    {
     "name": "stdout",
     "output_type": "stream",
     "text": [
      "SpearmanrResult for review_count and stars is :\n",
      "SpearmanrResult(correlation=-0.030279908742985299, pvalue=1.0616207260681879e-18)\n",
      "SpearmanrResult for review_count and checkin_count is :\n",
      "SpearmanrResult(correlation=0.71952580539189903, pvalue=0.0)\n",
      "SpearmanrResult for review_count and tips_count is :\n",
      "SpearmanrResult(correlation=0.71693681644651019, pvalue=0.0)\n",
      "SpearmanrResult for review_count and fac_count is :\n",
      "SpearmanrResult(correlation=0.50929084834866156, pvalue=0.0)\n",
      "SpearmanrResult for stars and checkin_count is :\n",
      "SpearmanrResult(correlation=-0.12933380519700338, pvalue=0.0)\n",
      "SpearmanrResult for stars and tips_count is :\n",
      "SpearmanrResult(correlation=-0.10947337054999511, pvalue=8.7089479749404482e-225)\n",
      "SpearmanrResult for stars and fac_count is :\n",
      "SpearmanrResult(correlation=-0.1041158083690655, pvalue=2.0844975013768234e-203)\n",
      "SpearmanrResult for checkin_count and tips_count is :\n",
      "SpearmanrResult(correlation=0.81775543853029475, pvalue=0.0)\n",
      "SpearmanrResult for checkin_count and fac_count is :\n",
      "SpearmanrResult(correlation=0.49490401159192338, pvalue=0.0)\n",
      "SpearmanrResult for tips_count and fac_count is :\n",
      "SpearmanrResult(correlation=0.50086523050940024, pvalue=0.0)\n"
     ]
    }
   ],
   "source": [
    "columns = df_bizrank.columns.values\n",
    "for i in range(0,4):\n",
    "    for j in range(i+1,5):\n",
    "        x = df_bizrank[columns[i]]\n",
    "        y = df_bizrank[columns[j]]\n",
    "        exptCorr = stats.spearmanr(x,y)\n",
    "        print (\"SpearmanrResult for %s and %s is :\"%(columns[i], columns[j]))\n",
    "        print(exptCorr)"
   ]
  },
  {
   "cell_type": "code",
   "execution_count": 46,
   "metadata": {
    "collapsed": false
   },
   "outputs": [
    {
     "data": {
      "text/html": [
       "<div>\n",
       "<table border=\"1\" class=\"dataframe\">\n",
       "  <thead>\n",
       "    <tr style=\"text-align: right;\">\n",
       "      <th></th>\n",
       "      <th>review_count</th>\n",
       "      <th>stars</th>\n",
       "      <th>checkin_count</th>\n",
       "      <th>tips_count</th>\n",
       "      <th>fac_count</th>\n",
       "    </tr>\n",
       "    <tr>\n",
       "      <th>business_id</th>\n",
       "      <th></th>\n",
       "      <th></th>\n",
       "      <th></th>\n",
       "      <th></th>\n",
       "      <th></th>\n",
       "    </tr>\n",
       "  </thead>\n",
       "  <tbody>\n",
       "    <tr>\n",
       "      <th>5UmKMjUEUNdYWqANhGckJw</th>\n",
       "      <td>7</td>\n",
       "      <td>3.5</td>\n",
       "      <td>0.0</td>\n",
       "      <td>1.0</td>\n",
       "      <td>4</td>\n",
       "    </tr>\n",
       "    <tr>\n",
       "      <th>UsFtqoBl7naz8AVUBZMjQQ</th>\n",
       "      <td>5</td>\n",
       "      <td>3.0</td>\n",
       "      <td>0.0</td>\n",
       "      <td>0.0</td>\n",
       "      <td>3</td>\n",
       "    </tr>\n",
       "    <tr>\n",
       "      <th>cE27W9VPgO88Qxe4ol6y_g</th>\n",
       "      <td>5</td>\n",
       "      <td>2.5</td>\n",
       "      <td>9.0</td>\n",
       "      <td>1.0</td>\n",
       "      <td>1</td>\n",
       "    </tr>\n",
       "  </tbody>\n",
       "</table>\n",
       "</div>"
      ],
      "text/plain": [
       "                        review_count  stars  checkin_count  tips_count  \\\n",
       "business_id                                                              \n",
       "5UmKMjUEUNdYWqANhGckJw             7    3.5            0.0         1.0   \n",
       "UsFtqoBl7naz8AVUBZMjQQ             5    3.0            0.0         0.0   \n",
       "cE27W9VPgO88Qxe4ol6y_g             5    2.5            9.0         1.0   \n",
       "\n",
       "                        fac_count  \n",
       "business_id                        \n",
       "5UmKMjUEUNdYWqANhGckJw          4  \n",
       "UsFtqoBl7naz8AVUBZMjQQ          3  \n",
       "cE27W9VPgO88Qxe4ol6y_g          1  "
      ]
     },
     "execution_count": 46,
     "metadata": {},
     "output_type": "execute_result"
    }
   ],
   "source": [
    "df_bizrank.head(3)"
   ]
  },
  {
   "cell_type": "markdown",
   "metadata": {},
   "source": [
    "Observations :\n",
    "      checkin count and tips count have very strong correlaion, which is quite obvious since more number of people come to a restaurent more number of tips it receives."
   ]
  },
  {
   "cell_type": "code",
   "execution_count": 47,
   "metadata": {
    "collapsed": false
   },
   "outputs": [
    {
     "name": "stderr",
     "output_type": "stream",
     "text": [
      "/home/shilpa/anaconda2/lib/python2.7/site-packages/ipykernel/__main__.py:2: FutureWarning: sort(columns=....) is deprecated, use sort_values(by=.....)\n",
      "  from ipykernel import kernelapp as app\n"
     ]
    },
    {
     "data": {
      "text/html": [
       "<div>\n",
       "<table border=\"1\" class=\"dataframe\">\n",
       "  <thead>\n",
       "    <tr style=\"text-align: right;\">\n",
       "      <th></th>\n",
       "      <th>review_count</th>\n",
       "      <th>stars</th>\n",
       "      <th>checkin_count</th>\n",
       "      <th>tips_count</th>\n",
       "      <th>fac_count</th>\n",
       "      <th>agg_value</th>\n",
       "    </tr>\n",
       "    <tr>\n",
       "      <th>business_id</th>\n",
       "      <th></th>\n",
       "      <th></th>\n",
       "      <th></th>\n",
       "      <th></th>\n",
       "      <th></th>\n",
       "      <th></th>\n",
       "    </tr>\n",
       "  </thead>\n",
       "  <tbody>\n",
       "    <tr>\n",
       "      <th>jf67Z1pnwElRSXllpQHiJg</th>\n",
       "      <td>2736</td>\n",
       "      <td>3.5</td>\n",
       "      <td>85243.0</td>\n",
       "      <td>2850.0</td>\n",
       "      <td>0</td>\n",
       "      <td>90832.5</td>\n",
       "    </tr>\n",
       "    <tr>\n",
       "      <th>hW0Ne_HTHEAgGF1rAdmR-g</th>\n",
       "      <td>1938</td>\n",
       "      <td>3.5</td>\n",
       "      <td>75705.0</td>\n",
       "      <td>1987.0</td>\n",
       "      <td>0</td>\n",
       "      <td>79633.5</td>\n",
       "    </tr>\n",
       "    <tr>\n",
       "      <th>3Q0QQPnHcJuX1DLCL9G9Cg</th>\n",
       "      <td>1348</td>\n",
       "      <td>3.5</td>\n",
       "      <td>33293.0</td>\n",
       "      <td>618.0</td>\n",
       "      <td>0</td>\n",
       "      <td>35262.5</td>\n",
       "    </tr>\n",
       "    <tr>\n",
       "      <th>AtjsjFzalWqJ7S9DUFQ4bw</th>\n",
       "      <td>3228</td>\n",
       "      <td>4.0</td>\n",
       "      <td>29095.0</td>\n",
       "      <td>1180.0</td>\n",
       "      <td>9</td>\n",
       "      <td>33516.0</td>\n",
       "    </tr>\n",
       "    <tr>\n",
       "      <th>JpHE7yhMS5ehA9e8WG_ETg</th>\n",
       "      <td>3181</td>\n",
       "      <td>3.5</td>\n",
       "      <td>19566.0</td>\n",
       "      <td>752.0</td>\n",
       "      <td>1</td>\n",
       "      <td>23503.5</td>\n",
       "    </tr>\n",
       "    <tr>\n",
       "      <th>2e2e7WgqU1BnpxmQL5jbfw</th>\n",
       "      <td>4687</td>\n",
       "      <td>4.5</td>\n",
       "      <td>17613.0</td>\n",
       "      <td>1184.0</td>\n",
       "      <td>7</td>\n",
       "      <td>23495.5</td>\n",
       "    </tr>\n",
       "    <tr>\n",
       "      <th>sIyHTizqAiGu12XMLX3N3g</th>\n",
       "      <td>5216</td>\n",
       "      <td>4.0</td>\n",
       "      <td>17256.0</td>\n",
       "      <td>809.0</td>\n",
       "      <td>5</td>\n",
       "      <td>23290.0</td>\n",
       "    </tr>\n",
       "    <tr>\n",
       "      <th>34uJtlPnKicSaX1V8_tu1A</th>\n",
       "      <td>2632</td>\n",
       "      <td>4.0</td>\n",
       "      <td>19434.0</td>\n",
       "      <td>602.0</td>\n",
       "      <td>7</td>\n",
       "      <td>22679.0</td>\n",
       "    </tr>\n",
       "    <tr>\n",
       "      <th>eWPFXL1Bmu1ImtIa2Rqliw</th>\n",
       "      <td>2793</td>\n",
       "      <td>3.0</td>\n",
       "      <td>19201.0</td>\n",
       "      <td>580.0</td>\n",
       "      <td>7</td>\n",
       "      <td>22584.0</td>\n",
       "    </tr>\n",
       "    <tr>\n",
       "      <th>-7yF42k0CcJhtPw51oaOqQ</th>\n",
       "      <td>2270</td>\n",
       "      <td>4.0</td>\n",
       "      <td>18914.0</td>\n",
       "      <td>550.0</td>\n",
       "      <td>6</td>\n",
       "      <td>21744.0</td>\n",
       "    </tr>\n",
       "    <tr>\n",
       "      <th>z3SyT8blMIhsZNvKJgKcRA</th>\n",
       "      <td>1952</td>\n",
       "      <td>3.5</td>\n",
       "      <td>18948.0</td>\n",
       "      <td>525.0</td>\n",
       "      <td>1</td>\n",
       "      <td>21429.5</td>\n",
       "    </tr>\n",
       "    <tr>\n",
       "      <th>zt1TpTuJ6y9n551sw9TaEg</th>\n",
       "      <td>4967</td>\n",
       "      <td>3.5</td>\n",
       "      <td>14302.0</td>\n",
       "      <td>1057.0</td>\n",
       "      <td>5</td>\n",
       "      <td>20334.5</td>\n",
       "    </tr>\n",
       "    <tr>\n",
       "      <th>4bEjOyTaDG24SY5TxsaUNQ</th>\n",
       "      <td>6200</td>\n",
       "      <td>4.0</td>\n",
       "      <td>12778.0</td>\n",
       "      <td>803.0</td>\n",
       "      <td>7</td>\n",
       "      <td>19792.0</td>\n",
       "    </tr>\n",
       "    <tr>\n",
       "      <th>uJYw4p59AKh8c8h5yWMdOw</th>\n",
       "      <td>2289</td>\n",
       "      <td>3.0</td>\n",
       "      <td>16474.0</td>\n",
       "      <td>506.0</td>\n",
       "      <td>6</td>\n",
       "      <td>19278.0</td>\n",
       "    </tr>\n",
       "    <tr>\n",
       "      <th>DWU6qqrlrC4wDkxhbHo8Tw</th>\n",
       "      <td>756</td>\n",
       "      <td>4.5</td>\n",
       "      <td>17810.0</td>\n",
       "      <td>193.0</td>\n",
       "      <td>4</td>\n",
       "      <td>18767.5</td>\n",
       "    </tr>\n",
       "    <tr>\n",
       "      <th>TWD8c5-P7w9v-2KX_GSNZQ</th>\n",
       "      <td>2116</td>\n",
       "      <td>3.5</td>\n",
       "      <td>15424.0</td>\n",
       "      <td>531.0</td>\n",
       "      <td>7</td>\n",
       "      <td>18081.5</td>\n",
       "    </tr>\n",
       "    <tr>\n",
       "      <th>_NHje6H0eHAPirJ7oup_aA</th>\n",
       "      <td>465</td>\n",
       "      <td>4.0</td>\n",
       "      <td>15145.0</td>\n",
       "      <td>362.0</td>\n",
       "      <td>2</td>\n",
       "      <td>15978.0</td>\n",
       "    </tr>\n",
       "    <tr>\n",
       "      <th>aGbjLWzcrnEx2ZmMCFm3EA</th>\n",
       "      <td>4620</td>\n",
       "      <td>4.0</td>\n",
       "      <td>10680.0</td>\n",
       "      <td>594.0</td>\n",
       "      <td>7</td>\n",
       "      <td>15905.0</td>\n",
       "    </tr>\n",
       "    <tr>\n",
       "      <th>5paMI5Hhciyl09yGpzdoJw</th>\n",
       "      <td>1940</td>\n",
       "      <td>4.0</td>\n",
       "      <td>13425.0</td>\n",
       "      <td>495.0</td>\n",
       "      <td>7</td>\n",
       "      <td>15871.0</td>\n",
       "    </tr>\n",
       "    <tr>\n",
       "      <th>u9wjRhUjySkHPa_hG3kFOg</th>\n",
       "      <td>2045</td>\n",
       "      <td>4.0</td>\n",
       "      <td>13342.0</td>\n",
       "      <td>423.0</td>\n",
       "      <td>7</td>\n",
       "      <td>15821.0</td>\n",
       "    </tr>\n",
       "    <tr>\n",
       "      <th>Xhg93cMdemu5pAMkDoEdtQ</th>\n",
       "      <td>3781</td>\n",
       "      <td>3.0</td>\n",
       "      <td>10721.0</td>\n",
       "      <td>759.0</td>\n",
       "      <td>10</td>\n",
       "      <td>15274.0</td>\n",
       "    </tr>\n",
       "    <tr>\n",
       "      <th>CsNOg-u_wCuXSt9Z-xU92Q</th>\n",
       "      <td>280</td>\n",
       "      <td>3.0</td>\n",
       "      <td>14267.0</td>\n",
       "      <td>641.0</td>\n",
       "      <td>2</td>\n",
       "      <td>15193.0</td>\n",
       "    </tr>\n",
       "    <tr>\n",
       "      <th>eq6lQI039SBLC6sHm3idGA</th>\n",
       "      <td>3086</td>\n",
       "      <td>4.0</td>\n",
       "      <td>11077.0</td>\n",
       "      <td>765.0</td>\n",
       "      <td>5</td>\n",
       "      <td>14937.0</td>\n",
       "    </tr>\n",
       "    <tr>\n",
       "      <th>FV16IeXJp2W6pnghTz2FAw</th>\n",
       "      <td>2142</td>\n",
       "      <td>3.5</td>\n",
       "      <td>11597.0</td>\n",
       "      <td>862.0</td>\n",
       "      <td>6</td>\n",
       "      <td>14610.5</td>\n",
       "    </tr>\n",
       "    <tr>\n",
       "      <th>6LM_Klmp3hOP0JmsMCKRqQ</th>\n",
       "      <td>2934</td>\n",
       "      <td>2.5</td>\n",
       "      <td>10224.0</td>\n",
       "      <td>537.0</td>\n",
       "      <td>7</td>\n",
       "      <td>13704.5</td>\n",
       "    </tr>\n",
       "    <tr>\n",
       "      <th>y4Qyf4PPSOHdQFTr3Zi_KA</th>\n",
       "      <td>1120</td>\n",
       "      <td>3.5</td>\n",
       "      <td>11838.0</td>\n",
       "      <td>421.0</td>\n",
       "      <td>8</td>\n",
       "      <td>13390.5</td>\n",
       "    </tr>\n",
       "    <tr>\n",
       "      <th>bYhpy9u8fKkGhYHtvYXazQ</th>\n",
       "      <td>1728</td>\n",
       "      <td>3.0</td>\n",
       "      <td>11286.0</td>\n",
       "      <td>315.0</td>\n",
       "      <td>7</td>\n",
       "      <td>13339.0</td>\n",
       "    </tr>\n",
       "    <tr>\n",
       "      <th>PXviRcHR1mqdH4vRc2LEAQ</th>\n",
       "      <td>2622</td>\n",
       "      <td>4.0</td>\n",
       "      <td>9773.0</td>\n",
       "      <td>769.0</td>\n",
       "      <td>8</td>\n",
       "      <td>13176.0</td>\n",
       "    </tr>\n",
       "    <tr>\n",
       "      <th>QbmcCE_cLq4WO8ZMKImaLw</th>\n",
       "      <td>3577</td>\n",
       "      <td>4.0</td>\n",
       "      <td>8811.0</td>\n",
       "      <td>571.0</td>\n",
       "      <td>8</td>\n",
       "      <td>12971.0</td>\n",
       "    </tr>\n",
       "    <tr>\n",
       "      <th>HMr_KN63f6MzM9h8Wije3Q</th>\n",
       "      <td>1491</td>\n",
       "      <td>3.5</td>\n",
       "      <td>10532.0</td>\n",
       "      <td>297.0</td>\n",
       "      <td>2</td>\n",
       "      <td>12325.5</td>\n",
       "    </tr>\n",
       "    <tr>\n",
       "      <th>...</th>\n",
       "      <td>...</td>\n",
       "      <td>...</td>\n",
       "      <td>...</td>\n",
       "      <td>...</td>\n",
       "      <td>...</td>\n",
       "      <td>...</td>\n",
       "    </tr>\n",
       "    <tr>\n",
       "      <th>j_pce4pG9krrBeYwUni8Pg</th>\n",
       "      <td>1032</td>\n",
       "      <td>4.0</td>\n",
       "      <td>6465.0</td>\n",
       "      <td>460.0</td>\n",
       "      <td>10</td>\n",
       "      <td>7971.0</td>\n",
       "    </tr>\n",
       "    <tr>\n",
       "      <th>MN0OLvP8i0SirMJ7AMuMzA</th>\n",
       "      <td>1358</td>\n",
       "      <td>4.0</td>\n",
       "      <td>6267.0</td>\n",
       "      <td>297.0</td>\n",
       "      <td>8</td>\n",
       "      <td>7934.0</td>\n",
       "    </tr>\n",
       "    <tr>\n",
       "      <th>G149aO4XXAKBsUcksvuI7g</th>\n",
       "      <td>562</td>\n",
       "      <td>4.0</td>\n",
       "      <td>7018.0</td>\n",
       "      <td>113.0</td>\n",
       "      <td>8</td>\n",
       "      <td>7705.0</td>\n",
       "    </tr>\n",
       "    <tr>\n",
       "      <th>wH9WtaTlrRawH_IpK90RPg</th>\n",
       "      <td>219</td>\n",
       "      <td>3.5</td>\n",
       "      <td>7392.0</td>\n",
       "      <td>79.0</td>\n",
       "      <td>8</td>\n",
       "      <td>7701.5</td>\n",
       "    </tr>\n",
       "    <tr>\n",
       "      <th>OUpcKYGbVYgSS1Oo7aQ56Q</th>\n",
       "      <td>1399</td>\n",
       "      <td>3.5</td>\n",
       "      <td>5973.0</td>\n",
       "      <td>307.0</td>\n",
       "      <td>10</td>\n",
       "      <td>7692.5</td>\n",
       "    </tr>\n",
       "    <tr>\n",
       "      <th>HyfFenprdpIA4rmKu6DW3g</th>\n",
       "      <td>1666</td>\n",
       "      <td>4.5</td>\n",
       "      <td>5437.0</td>\n",
       "      <td>452.0</td>\n",
       "      <td>5</td>\n",
       "      <td>7564.5</td>\n",
       "    </tr>\n",
       "    <tr>\n",
       "      <th>-4A5xmN21zi_TXnUESauUQ</th>\n",
       "      <td>685</td>\n",
       "      <td>4.5</td>\n",
       "      <td>6571.0</td>\n",
       "      <td>222.0</td>\n",
       "      <td>6</td>\n",
       "      <td>7488.5</td>\n",
       "    </tr>\n",
       "    <tr>\n",
       "      <th>iUPJmJvHy9fVfRxsuwwdLQ</th>\n",
       "      <td>3767</td>\n",
       "      <td>4.5</td>\n",
       "      <td>2529.0</td>\n",
       "      <td>1145.0</td>\n",
       "      <td>8</td>\n",
       "      <td>7453.5</td>\n",
       "    </tr>\n",
       "    <tr>\n",
       "      <th>UZbkczu-KJour2Hgt_5WWw</th>\n",
       "      <td>467</td>\n",
       "      <td>3.5</td>\n",
       "      <td>6430.0</td>\n",
       "      <td>541.0</td>\n",
       "      <td>1</td>\n",
       "      <td>7442.5</td>\n",
       "    </tr>\n",
       "    <tr>\n",
       "      <th>tqu42L0qXzkvYKSruOz0IA</th>\n",
       "      <td>1693</td>\n",
       "      <td>4.0</td>\n",
       "      <td>5123.0</td>\n",
       "      <td>518.0</td>\n",
       "      <td>6</td>\n",
       "      <td>7344.0</td>\n",
       "    </tr>\n",
       "    <tr>\n",
       "      <th>lddbHJKgFvnVWabK-M8TPA</th>\n",
       "      <td>717</td>\n",
       "      <td>3.5</td>\n",
       "      <td>6224.0</td>\n",
       "      <td>311.0</td>\n",
       "      <td>8</td>\n",
       "      <td>7263.5</td>\n",
       "    </tr>\n",
       "    <tr>\n",
       "      <th>OOCLVeqqMFfSnKa7liv0Kw</th>\n",
       "      <td>200</td>\n",
       "      <td>3.5</td>\n",
       "      <td>6967.0</td>\n",
       "      <td>83.0</td>\n",
       "      <td>9</td>\n",
       "      <td>7262.5</td>\n",
       "    </tr>\n",
       "    <tr>\n",
       "      <th>vT12uXtdBQ10_lUcl-M40w</th>\n",
       "      <td>1284</td>\n",
       "      <td>3.0</td>\n",
       "      <td>5728.0</td>\n",
       "      <td>209.0</td>\n",
       "      <td>4</td>\n",
       "      <td>7228.0</td>\n",
       "    </tr>\n",
       "    <tr>\n",
       "      <th>q0TAM97O5xa2sVjFSwdvrQ</th>\n",
       "      <td>109</td>\n",
       "      <td>2.5</td>\n",
       "      <td>6961.0</td>\n",
       "      <td>71.0</td>\n",
       "      <td>1</td>\n",
       "      <td>7144.5</td>\n",
       "    </tr>\n",
       "    <tr>\n",
       "      <th>pwF_phwjD1ZHsY1xC9H7mA</th>\n",
       "      <td>780</td>\n",
       "      <td>4.5</td>\n",
       "      <td>5913.0</td>\n",
       "      <td>361.0</td>\n",
       "      <td>7</td>\n",
       "      <td>7065.5</td>\n",
       "    </tr>\n",
       "    <tr>\n",
       "      <th>wNsmt1hF1uv3YvbwXZMAoQ</th>\n",
       "      <td>872</td>\n",
       "      <td>4.0</td>\n",
       "      <td>5948.0</td>\n",
       "      <td>228.0</td>\n",
       "      <td>8</td>\n",
       "      <td>7060.0</td>\n",
       "    </tr>\n",
       "    <tr>\n",
       "      <th>IRYj1b1-mlXqABVsl9SoqQ</th>\n",
       "      <td>1605</td>\n",
       "      <td>4.5</td>\n",
       "      <td>4950.0</td>\n",
       "      <td>451.0</td>\n",
       "      <td>5</td>\n",
       "      <td>7015.5</td>\n",
       "    </tr>\n",
       "    <tr>\n",
       "      <th>05fTEsjUPVo5jks8PpNKCQ</th>\n",
       "      <td>1844</td>\n",
       "      <td>4.5</td>\n",
       "      <td>4641.0</td>\n",
       "      <td>385.0</td>\n",
       "      <td>9</td>\n",
       "      <td>6883.5</td>\n",
       "    </tr>\n",
       "    <tr>\n",
       "      <th>7iuHMJqKHzg3vZPHg3OeBw</th>\n",
       "      <td>44</td>\n",
       "      <td>3.0</td>\n",
       "      <td>6712.0</td>\n",
       "      <td>108.0</td>\n",
       "      <td>0</td>\n",
       "      <td>6867.0</td>\n",
       "    </tr>\n",
       "    <tr>\n",
       "      <th>4UVhuOLaMm2-34SrW8y-ag</th>\n",
       "      <td>1305</td>\n",
       "      <td>4.0</td>\n",
       "      <td>5105.0</td>\n",
       "      <td>434.0</td>\n",
       "      <td>8</td>\n",
       "      <td>6856.0</td>\n",
       "    </tr>\n",
       "    <tr>\n",
       "      <th>53YGfwmbW73JhFiemNeyzQ</th>\n",
       "      <td>1195</td>\n",
       "      <td>4.0</td>\n",
       "      <td>5433.0</td>\n",
       "      <td>198.0</td>\n",
       "      <td>8</td>\n",
       "      <td>6838.0</td>\n",
       "    </tr>\n",
       "    <tr>\n",
       "      <th>kgt13cwkP03NS8FJKgdLMw</th>\n",
       "      <td>924</td>\n",
       "      <td>4.0</td>\n",
       "      <td>5478.0</td>\n",
       "      <td>303.0</td>\n",
       "      <td>6</td>\n",
       "      <td>6715.0</td>\n",
       "    </tr>\n",
       "    <tr>\n",
       "      <th>xyTJYlbE_MLouK6rCou6zg</th>\n",
       "      <td>2266</td>\n",
       "      <td>4.0</td>\n",
       "      <td>4080.0</td>\n",
       "      <td>304.0</td>\n",
       "      <td>10</td>\n",
       "      <td>6664.0</td>\n",
       "    </tr>\n",
       "    <tr>\n",
       "      <th>DO3Gk17RyJVW7zYMCtYPnw</th>\n",
       "      <td>2643</td>\n",
       "      <td>4.0</td>\n",
       "      <td>3684.0</td>\n",
       "      <td>320.0</td>\n",
       "      <td>5</td>\n",
       "      <td>6656.0</td>\n",
       "    </tr>\n",
       "    <tr>\n",
       "      <th>pPfQ73--Y_h5Or0aqDgEGA</th>\n",
       "      <td>953</td>\n",
       "      <td>4.0</td>\n",
       "      <td>5109.0</td>\n",
       "      <td>387.0</td>\n",
       "      <td>6</td>\n",
       "      <td>6459.0</td>\n",
       "    </tr>\n",
       "    <tr>\n",
       "      <th>eLPld7Q17XxlclFGzZQX5g</th>\n",
       "      <td>1474</td>\n",
       "      <td>4.0</td>\n",
       "      <td>4405.0</td>\n",
       "      <td>452.0</td>\n",
       "      <td>7</td>\n",
       "      <td>6342.0</td>\n",
       "    </tr>\n",
       "    <tr>\n",
       "      <th>WT-v-DgQvW38DewVyTLdTA</th>\n",
       "      <td>1592</td>\n",
       "      <td>2.5</td>\n",
       "      <td>4475.0</td>\n",
       "      <td>233.0</td>\n",
       "      <td>5</td>\n",
       "      <td>6307.5</td>\n",
       "    </tr>\n",
       "    <tr>\n",
       "      <th>vSf0pqvaLp5sVSjJPeOqqQ</th>\n",
       "      <td>1233</td>\n",
       "      <td>3.5</td>\n",
       "      <td>4741.0</td>\n",
       "      <td>289.0</td>\n",
       "      <td>9</td>\n",
       "      <td>6275.5</td>\n",
       "    </tr>\n",
       "    <tr>\n",
       "      <th>rZbHg4ACfN3iShdsT47WKQ</th>\n",
       "      <td>1532</td>\n",
       "      <td>4.5</td>\n",
       "      <td>4364.0</td>\n",
       "      <td>333.0</td>\n",
       "      <td>10</td>\n",
       "      <td>6243.5</td>\n",
       "    </tr>\n",
       "    <tr>\n",
       "      <th>r0ZoytDjK4CY5ytFNjZLvw</th>\n",
       "      <td>644</td>\n",
       "      <td>4.0</td>\n",
       "      <td>5333.0</td>\n",
       "      <td>191.0</td>\n",
       "      <td>9</td>\n",
       "      <td>6181.0</td>\n",
       "    </tr>\n",
       "  </tbody>\n",
       "</table>\n",
       "<p>100 rows × 6 columns</p>\n",
       "</div>"
      ],
      "text/plain": [
       "                        review_count  stars  checkin_count  tips_count  \\\n",
       "business_id                                                              \n",
       "jf67Z1pnwElRSXllpQHiJg          2736    3.5        85243.0      2850.0   \n",
       "hW0Ne_HTHEAgGF1rAdmR-g          1938    3.5        75705.0      1987.0   \n",
       "3Q0QQPnHcJuX1DLCL9G9Cg          1348    3.5        33293.0       618.0   \n",
       "AtjsjFzalWqJ7S9DUFQ4bw          3228    4.0        29095.0      1180.0   \n",
       "JpHE7yhMS5ehA9e8WG_ETg          3181    3.5        19566.0       752.0   \n",
       "2e2e7WgqU1BnpxmQL5jbfw          4687    4.5        17613.0      1184.0   \n",
       "sIyHTizqAiGu12XMLX3N3g          5216    4.0        17256.0       809.0   \n",
       "34uJtlPnKicSaX1V8_tu1A          2632    4.0        19434.0       602.0   \n",
       "eWPFXL1Bmu1ImtIa2Rqliw          2793    3.0        19201.0       580.0   \n",
       "-7yF42k0CcJhtPw51oaOqQ          2270    4.0        18914.0       550.0   \n",
       "z3SyT8blMIhsZNvKJgKcRA          1952    3.5        18948.0       525.0   \n",
       "zt1TpTuJ6y9n551sw9TaEg          4967    3.5        14302.0      1057.0   \n",
       "4bEjOyTaDG24SY5TxsaUNQ          6200    4.0        12778.0       803.0   \n",
       "uJYw4p59AKh8c8h5yWMdOw          2289    3.0        16474.0       506.0   \n",
       "DWU6qqrlrC4wDkxhbHo8Tw           756    4.5        17810.0       193.0   \n",
       "TWD8c5-P7w9v-2KX_GSNZQ          2116    3.5        15424.0       531.0   \n",
       "_NHje6H0eHAPirJ7oup_aA           465    4.0        15145.0       362.0   \n",
       "aGbjLWzcrnEx2ZmMCFm3EA          4620    4.0        10680.0       594.0   \n",
       "5paMI5Hhciyl09yGpzdoJw          1940    4.0        13425.0       495.0   \n",
       "u9wjRhUjySkHPa_hG3kFOg          2045    4.0        13342.0       423.0   \n",
       "Xhg93cMdemu5pAMkDoEdtQ          3781    3.0        10721.0       759.0   \n",
       "CsNOg-u_wCuXSt9Z-xU92Q           280    3.0        14267.0       641.0   \n",
       "eq6lQI039SBLC6sHm3idGA          3086    4.0        11077.0       765.0   \n",
       "FV16IeXJp2W6pnghTz2FAw          2142    3.5        11597.0       862.0   \n",
       "6LM_Klmp3hOP0JmsMCKRqQ          2934    2.5        10224.0       537.0   \n",
       "y4Qyf4PPSOHdQFTr3Zi_KA          1120    3.5        11838.0       421.0   \n",
       "bYhpy9u8fKkGhYHtvYXazQ          1728    3.0        11286.0       315.0   \n",
       "PXviRcHR1mqdH4vRc2LEAQ          2622    4.0         9773.0       769.0   \n",
       "QbmcCE_cLq4WO8ZMKImaLw          3577    4.0         8811.0       571.0   \n",
       "HMr_KN63f6MzM9h8Wije3Q          1491    3.5        10532.0       297.0   \n",
       "...                              ...    ...            ...         ...   \n",
       "j_pce4pG9krrBeYwUni8Pg          1032    4.0         6465.0       460.0   \n",
       "MN0OLvP8i0SirMJ7AMuMzA          1358    4.0         6267.0       297.0   \n",
       "G149aO4XXAKBsUcksvuI7g           562    4.0         7018.0       113.0   \n",
       "wH9WtaTlrRawH_IpK90RPg           219    3.5         7392.0        79.0   \n",
       "OUpcKYGbVYgSS1Oo7aQ56Q          1399    3.5         5973.0       307.0   \n",
       "HyfFenprdpIA4rmKu6DW3g          1666    4.5         5437.0       452.0   \n",
       "-4A5xmN21zi_TXnUESauUQ           685    4.5         6571.0       222.0   \n",
       "iUPJmJvHy9fVfRxsuwwdLQ          3767    4.5         2529.0      1145.0   \n",
       "UZbkczu-KJour2Hgt_5WWw           467    3.5         6430.0       541.0   \n",
       "tqu42L0qXzkvYKSruOz0IA          1693    4.0         5123.0       518.0   \n",
       "lddbHJKgFvnVWabK-M8TPA           717    3.5         6224.0       311.0   \n",
       "OOCLVeqqMFfSnKa7liv0Kw           200    3.5         6967.0        83.0   \n",
       "vT12uXtdBQ10_lUcl-M40w          1284    3.0         5728.0       209.0   \n",
       "q0TAM97O5xa2sVjFSwdvrQ           109    2.5         6961.0        71.0   \n",
       "pwF_phwjD1ZHsY1xC9H7mA           780    4.5         5913.0       361.0   \n",
       "wNsmt1hF1uv3YvbwXZMAoQ           872    4.0         5948.0       228.0   \n",
       "IRYj1b1-mlXqABVsl9SoqQ          1605    4.5         4950.0       451.0   \n",
       "05fTEsjUPVo5jks8PpNKCQ          1844    4.5         4641.0       385.0   \n",
       "7iuHMJqKHzg3vZPHg3OeBw            44    3.0         6712.0       108.0   \n",
       "4UVhuOLaMm2-34SrW8y-ag          1305    4.0         5105.0       434.0   \n",
       "53YGfwmbW73JhFiemNeyzQ          1195    4.0         5433.0       198.0   \n",
       "kgt13cwkP03NS8FJKgdLMw           924    4.0         5478.0       303.0   \n",
       "xyTJYlbE_MLouK6rCou6zg          2266    4.0         4080.0       304.0   \n",
       "DO3Gk17RyJVW7zYMCtYPnw          2643    4.0         3684.0       320.0   \n",
       "pPfQ73--Y_h5Or0aqDgEGA           953    4.0         5109.0       387.0   \n",
       "eLPld7Q17XxlclFGzZQX5g          1474    4.0         4405.0       452.0   \n",
       "WT-v-DgQvW38DewVyTLdTA          1592    2.5         4475.0       233.0   \n",
       "vSf0pqvaLp5sVSjJPeOqqQ          1233    3.5         4741.0       289.0   \n",
       "rZbHg4ACfN3iShdsT47WKQ          1532    4.5         4364.0       333.0   \n",
       "r0ZoytDjK4CY5ytFNjZLvw           644    4.0         5333.0       191.0   \n",
       "\n",
       "                        fac_count  agg_value  \n",
       "business_id                                   \n",
       "jf67Z1pnwElRSXllpQHiJg          0    90832.5  \n",
       "hW0Ne_HTHEAgGF1rAdmR-g          0    79633.5  \n",
       "3Q0QQPnHcJuX1DLCL9G9Cg          0    35262.5  \n",
       "AtjsjFzalWqJ7S9DUFQ4bw          9    33516.0  \n",
       "JpHE7yhMS5ehA9e8WG_ETg          1    23503.5  \n",
       "2e2e7WgqU1BnpxmQL5jbfw          7    23495.5  \n",
       "sIyHTizqAiGu12XMLX3N3g          5    23290.0  \n",
       "34uJtlPnKicSaX1V8_tu1A          7    22679.0  \n",
       "eWPFXL1Bmu1ImtIa2Rqliw          7    22584.0  \n",
       "-7yF42k0CcJhtPw51oaOqQ          6    21744.0  \n",
       "z3SyT8blMIhsZNvKJgKcRA          1    21429.5  \n",
       "zt1TpTuJ6y9n551sw9TaEg          5    20334.5  \n",
       "4bEjOyTaDG24SY5TxsaUNQ          7    19792.0  \n",
       "uJYw4p59AKh8c8h5yWMdOw          6    19278.0  \n",
       "DWU6qqrlrC4wDkxhbHo8Tw          4    18767.5  \n",
       "TWD8c5-P7w9v-2KX_GSNZQ          7    18081.5  \n",
       "_NHje6H0eHAPirJ7oup_aA          2    15978.0  \n",
       "aGbjLWzcrnEx2ZmMCFm3EA          7    15905.0  \n",
       "5paMI5Hhciyl09yGpzdoJw          7    15871.0  \n",
       "u9wjRhUjySkHPa_hG3kFOg          7    15821.0  \n",
       "Xhg93cMdemu5pAMkDoEdtQ         10    15274.0  \n",
       "CsNOg-u_wCuXSt9Z-xU92Q          2    15193.0  \n",
       "eq6lQI039SBLC6sHm3idGA          5    14937.0  \n",
       "FV16IeXJp2W6pnghTz2FAw          6    14610.5  \n",
       "6LM_Klmp3hOP0JmsMCKRqQ          7    13704.5  \n",
       "y4Qyf4PPSOHdQFTr3Zi_KA          8    13390.5  \n",
       "bYhpy9u8fKkGhYHtvYXazQ          7    13339.0  \n",
       "PXviRcHR1mqdH4vRc2LEAQ          8    13176.0  \n",
       "QbmcCE_cLq4WO8ZMKImaLw          8    12971.0  \n",
       "HMr_KN63f6MzM9h8Wije3Q          2    12325.5  \n",
       "...                           ...        ...  \n",
       "j_pce4pG9krrBeYwUni8Pg         10     7971.0  \n",
       "MN0OLvP8i0SirMJ7AMuMzA          8     7934.0  \n",
       "G149aO4XXAKBsUcksvuI7g          8     7705.0  \n",
       "wH9WtaTlrRawH_IpK90RPg          8     7701.5  \n",
       "OUpcKYGbVYgSS1Oo7aQ56Q         10     7692.5  \n",
       "HyfFenprdpIA4rmKu6DW3g          5     7564.5  \n",
       "-4A5xmN21zi_TXnUESauUQ          6     7488.5  \n",
       "iUPJmJvHy9fVfRxsuwwdLQ          8     7453.5  \n",
       "UZbkczu-KJour2Hgt_5WWw          1     7442.5  \n",
       "tqu42L0qXzkvYKSruOz0IA          6     7344.0  \n",
       "lddbHJKgFvnVWabK-M8TPA          8     7263.5  \n",
       "OOCLVeqqMFfSnKa7liv0Kw          9     7262.5  \n",
       "vT12uXtdBQ10_lUcl-M40w          4     7228.0  \n",
       "q0TAM97O5xa2sVjFSwdvrQ          1     7144.5  \n",
       "pwF_phwjD1ZHsY1xC9H7mA          7     7065.5  \n",
       "wNsmt1hF1uv3YvbwXZMAoQ          8     7060.0  \n",
       "IRYj1b1-mlXqABVsl9SoqQ          5     7015.5  \n",
       "05fTEsjUPVo5jks8PpNKCQ          9     6883.5  \n",
       "7iuHMJqKHzg3vZPHg3OeBw          0     6867.0  \n",
       "4UVhuOLaMm2-34SrW8y-ag          8     6856.0  \n",
       "53YGfwmbW73JhFiemNeyzQ          8     6838.0  \n",
       "kgt13cwkP03NS8FJKgdLMw          6     6715.0  \n",
       "xyTJYlbE_MLouK6rCou6zg         10     6664.0  \n",
       "DO3Gk17RyJVW7zYMCtYPnw          5     6656.0  \n",
       "pPfQ73--Y_h5Or0aqDgEGA          6     6459.0  \n",
       "eLPld7Q17XxlclFGzZQX5g          7     6342.0  \n",
       "WT-v-DgQvW38DewVyTLdTA          5     6307.5  \n",
       "vSf0pqvaLp5sVSjJPeOqqQ          9     6275.5  \n",
       "rZbHg4ACfN3iShdsT47WKQ         10     6243.5  \n",
       "r0ZoytDjK4CY5ytFNjZLvw          9     6181.0  \n",
       "\n",
       "[100 rows x 6 columns]"
      ]
     },
     "execution_count": 47,
     "metadata": {},
     "output_type": "execute_result"
    }
   ],
   "source": [
    "df_bizrank['agg_value'] = df_bizrank.sum(axis=1)\n",
    "df_bizrank = df_bizrank.sort('agg_value',ascending=False)\n",
    "\n",
    "#Printing top 100 by this ranking\n",
    "df_bizrank.head(100)"
   ]
  },
  {
   "cell_type": "markdown",
   "metadata": {},
   "source": [
    "# Task 4 :"
   ]
  },
  {
   "cell_type": "markdown",
   "metadata": {},
   "source": [
    "We are planning to take above rankings as priors"
   ]
  },
  {
   "cell_type": "code",
   "execution_count": 73,
   "metadata": {
    "collapsed": false
   },
   "outputs": [
    {
     "data": {
      "text/html": [
       "<div>\n",
       "<table border=\"1\" class=\"dataframe\">\n",
       "  <thead>\n",
       "    <tr style=\"text-align: right;\">\n",
       "      <th></th>\n",
       "      <th>review_count</th>\n",
       "      <th>stars</th>\n",
       "      <th>checkin_count</th>\n",
       "      <th>tips_count</th>\n",
       "      <th>fac_count</th>\n",
       "      <th>agg_value</th>\n",
       "    </tr>\n",
       "    <tr>\n",
       "      <th>business_id</th>\n",
       "      <th></th>\n",
       "      <th></th>\n",
       "      <th></th>\n",
       "      <th></th>\n",
       "      <th></th>\n",
       "      <th></th>\n",
       "    </tr>\n",
       "  </thead>\n",
       "  <tbody>\n",
       "    <tr>\n",
       "      <th>jf67Z1pnwElRSXllpQHiJg</th>\n",
       "      <td>2736</td>\n",
       "      <td>3.5</td>\n",
       "      <td>85243.0</td>\n",
       "      <td>2850.0</td>\n",
       "      <td>0</td>\n",
       "      <td>90832.5</td>\n",
       "    </tr>\n",
       "    <tr>\n",
       "      <th>hW0Ne_HTHEAgGF1rAdmR-g</th>\n",
       "      <td>1938</td>\n",
       "      <td>3.5</td>\n",
       "      <td>75705.0</td>\n",
       "      <td>1987.0</td>\n",
       "      <td>0</td>\n",
       "      <td>79633.5</td>\n",
       "    </tr>\n",
       "    <tr>\n",
       "      <th>3Q0QQPnHcJuX1DLCL9G9Cg</th>\n",
       "      <td>1348</td>\n",
       "      <td>3.5</td>\n",
       "      <td>33293.0</td>\n",
       "      <td>618.0</td>\n",
       "      <td>0</td>\n",
       "      <td>35262.5</td>\n",
       "    </tr>\n",
       "    <tr>\n",
       "      <th>AtjsjFzalWqJ7S9DUFQ4bw</th>\n",
       "      <td>3228</td>\n",
       "      <td>4.0</td>\n",
       "      <td>29095.0</td>\n",
       "      <td>1180.0</td>\n",
       "      <td>9</td>\n",
       "      <td>33516.0</td>\n",
       "    </tr>\n",
       "    <tr>\n",
       "      <th>JpHE7yhMS5ehA9e8WG_ETg</th>\n",
       "      <td>3181</td>\n",
       "      <td>3.5</td>\n",
       "      <td>19566.0</td>\n",
       "      <td>752.0</td>\n",
       "      <td>1</td>\n",
       "      <td>23503.5</td>\n",
       "    </tr>\n",
       "    <tr>\n",
       "      <th>2e2e7WgqU1BnpxmQL5jbfw</th>\n",
       "      <td>4687</td>\n",
       "      <td>4.5</td>\n",
       "      <td>17613.0</td>\n",
       "      <td>1184.0</td>\n",
       "      <td>7</td>\n",
       "      <td>23495.5</td>\n",
       "    </tr>\n",
       "    <tr>\n",
       "      <th>sIyHTizqAiGu12XMLX3N3g</th>\n",
       "      <td>5216</td>\n",
       "      <td>4.0</td>\n",
       "      <td>17256.0</td>\n",
       "      <td>809.0</td>\n",
       "      <td>5</td>\n",
       "      <td>23290.0</td>\n",
       "    </tr>\n",
       "    <tr>\n",
       "      <th>34uJtlPnKicSaX1V8_tu1A</th>\n",
       "      <td>2632</td>\n",
       "      <td>4.0</td>\n",
       "      <td>19434.0</td>\n",
       "      <td>602.0</td>\n",
       "      <td>7</td>\n",
       "      <td>22679.0</td>\n",
       "    </tr>\n",
       "    <tr>\n",
       "      <th>eWPFXL1Bmu1ImtIa2Rqliw</th>\n",
       "      <td>2793</td>\n",
       "      <td>3.0</td>\n",
       "      <td>19201.0</td>\n",
       "      <td>580.0</td>\n",
       "      <td>7</td>\n",
       "      <td>22584.0</td>\n",
       "    </tr>\n",
       "    <tr>\n",
       "      <th>-7yF42k0CcJhtPw51oaOqQ</th>\n",
       "      <td>2270</td>\n",
       "      <td>4.0</td>\n",
       "      <td>18914.0</td>\n",
       "      <td>550.0</td>\n",
       "      <td>6</td>\n",
       "      <td>21744.0</td>\n",
       "    </tr>\n",
       "  </tbody>\n",
       "</table>\n",
       "</div>"
      ],
      "text/plain": [
       "                        review_count  stars  checkin_count  tips_count  \\\n",
       "business_id                                                              \n",
       "jf67Z1pnwElRSXllpQHiJg          2736    3.5        85243.0      2850.0   \n",
       "hW0Ne_HTHEAgGF1rAdmR-g          1938    3.5        75705.0      1987.0   \n",
       "3Q0QQPnHcJuX1DLCL9G9Cg          1348    3.5        33293.0       618.0   \n",
       "AtjsjFzalWqJ7S9DUFQ4bw          3228    4.0        29095.0      1180.0   \n",
       "JpHE7yhMS5ehA9e8WG_ETg          3181    3.5        19566.0       752.0   \n",
       "2e2e7WgqU1BnpxmQL5jbfw          4687    4.5        17613.0      1184.0   \n",
       "sIyHTizqAiGu12XMLX3N3g          5216    4.0        17256.0       809.0   \n",
       "34uJtlPnKicSaX1V8_tu1A          2632    4.0        19434.0       602.0   \n",
       "eWPFXL1Bmu1ImtIa2Rqliw          2793    3.0        19201.0       580.0   \n",
       "-7yF42k0CcJhtPw51oaOqQ          2270    4.0        18914.0       550.0   \n",
       "\n",
       "                        fac_count  agg_value  \n",
       "business_id                                   \n",
       "jf67Z1pnwElRSXllpQHiJg          0    90832.5  \n",
       "hW0Ne_HTHEAgGF1rAdmR-g          0    79633.5  \n",
       "3Q0QQPnHcJuX1DLCL9G9Cg          0    35262.5  \n",
       "AtjsjFzalWqJ7S9DUFQ4bw          9    33516.0  \n",
       "JpHE7yhMS5ehA9e8WG_ETg          1    23503.5  \n",
       "2e2e7WgqU1BnpxmQL5jbfw          7    23495.5  \n",
       "sIyHTizqAiGu12XMLX3N3g          5    23290.0  \n",
       "34uJtlPnKicSaX1V8_tu1A          7    22679.0  \n",
       "eWPFXL1Bmu1ImtIa2Rqliw          7    22584.0  \n",
       "-7yF42k0CcJhtPw51oaOqQ          6    21744.0  "
      ]
     },
     "execution_count": 73,
     "metadata": {},
     "output_type": "execute_result"
    }
   ],
   "source": [
    "df_bizrank.head(10)"
   ]
  },
  {
   "cell_type": "markdown",
   "metadata": {},
   "source": [
    "Finding aggregate value by summing up all the properties"
   ]
  },
  {
   "cell_type": "markdown",
   "metadata": {},
   "source": [
    "we want to take above aggregate values as the priors \n",
    "for the nodes in our graph for which we dont know the aggeregate value\n",
    "We are taking aggregate value for them as 1 (min possible)\n",
    "At the end to make sum = 1 for all priors, we will devide each priors to sum of all aggregate values"
   ]
  },
  {
   "cell_type": "code",
   "execution_count": 74,
   "metadata": {
    "collapsed": false
   },
   "outputs": [],
   "source": [
    "priors = []\n",
    "for i in range(0,no_usrs):\n",
    "    priors.append(1)"
   ]
  },
  {
   "cell_type": "code",
   "execution_count": 75,
   "metadata": {
    "collapsed": false
   },
   "outputs": [],
   "source": [
    "for bizId in BIZS:\n",
    "    if bizId[0] in df_bizrank.index :     \n",
    "        priors.append(df_bizrank.ix[bizId[0], 'agg_value'])\n",
    "    else:\n",
    "        priors.append(1)\n",
    "    "
   ]
  },
  {
   "cell_type": "markdown",
   "metadata": {},
   "source": [
    "Dividng priors with sum of total priors"
   ]
  },
  {
   "cell_type": "code",
   "execution_count": 88,
   "metadata": {
    "collapsed": false
   },
   "outputs": [],
   "source": [
    "priors = np.array(priors)\n",
    "priors = priors/priors.sum()\n",
    "p = priors.reshape(no_usrs+no_bizs,1)"
   ]
  },
  {
   "cell_type": "code",
   "execution_count": 89,
   "metadata": {
    "collapsed": false
   },
   "outputs": [
    {
     "name": "stdout",
     "output_type": "stream",
     "text": [
      "1.0\n"
     ]
    },
    {
     "data": {
      "text/plain": [
       "0"
      ]
     },
     "execution_count": 89,
     "metadata": {},
     "output_type": "execute_result"
    }
   ],
   "source": [
    "print(priors.sum())\n",
    "np.count_nonzero(priors == 0)"
   ]
  },
  {
   "cell_type": "code",
   "execution_count": 90,
   "metadata": {
    "collapsed": false
   },
   "outputs": [
    {
     "name": "stdout",
     "output_type": "stream",
     "text": [
      "CPU times: user 76 ms, sys: 44 ms, total: 120 ms\n",
      "Wall time: 250 ms\n"
     ]
    }
   ],
   "source": [
    "# loading the CSR matrix that we made\n",
    "DATASET_NATIVE = 'data/dataset-native.npz'\n",
    "%time csr = csr_load(DATASET_NATIVE)"
   ]
  },
  {
   "cell_type": "markdown",
   "metadata": {},
   "source": [
    "redefining page rank, taking vector p as prior,\n",
    "ref --> http://blog.samuelmh.com/2015/02/pagerank-sparse-matrices-python-ipython.html\n",
    "Page rank function"
   ]
  },
  {
   "cell_type": "code",
   "execution_count": 91,
   "metadata": {
    "collapsed": true
   },
   "outputs": [],
   "source": [
    "def compute_PageRank(G, beta=0.85, epsilon=10**-4):    \n",
    "    #Test adjacency matrix is OK\n",
    "    n,_ = G.shape\n",
    "    assert(G.shape==(n,n))\n",
    "    #Constants Speed-UP\n",
    "    deg_out_beta = G.sum(axis=0).T/beta #vector\n",
    "    #Initialize\n",
    "    ranks = p #vector\n",
    "    time = 0\n",
    "    flag = True\n",
    "    while flag:        \n",
    "        time +=1\n",
    "        with np.errstate(divide='ignore'): # Ignore division by 0 on ranks/deg_out_beta\n",
    "            new_ranks = G.dot((ranks/deg_out_beta)) #vector\n",
    "        #Leaked PageRank\n",
    "        new_ranks += (1-new_ranks.sum())/n\n",
    "        #Stop condition\n",
    "        if np.linalg.norm(ranks-new_ranks,ord=1)<=epsilon:\n",
    "            flag = False        \n",
    "        ranks = new_ranks\n",
    "    return(ranks, time)"
   ]
  },
  {
   "cell_type": "code",
   "execution_count": 92,
   "metadata": {
    "collapsed": false
   },
   "outputs": [
    {
     "name": "stdout",
     "output_type": "stream",
     "text": [
      "==> Computing PageRank\n",
      "CPU times: user 1.02 s, sys: 4 ms, total: 1.02 s\n",
      "Wall time: 1.23 s\n",
      "\n",
      "Iterations: 16\n"
     ]
    }
   ],
   "source": [
    "# computing page rank\n",
    "print '==> Computing PageRank'\n",
    "%time pr,iters = compute_PageRank(csr)\n",
    "print '\\nIterations: {0}'.format(iters)"
   ]
  },
  {
   "cell_type": "markdown",
   "metadata": {},
   "source": [
    "Finding top 100 business indexes"
   ]
  },
  {
   "cell_type": "code",
   "execution_count": 93,
   "metadata": {
    "collapsed": false
   },
   "outputs": [
    {
     "name": "stdout",
     "output_type": "stream",
     "text": [
      "[747386 693178 736678 760497 770476 690623 722567 731981 695487 713542\n",
      " 752358 701559 751761 718077 744324 732849 758756 761725 689735 742264\n",
      " 703789 706891 742694 704912 767555 700462 737456 708430 691188 763115\n",
      " 760210 721141 759711 726400 730045 730267 685827 749702 710543 718909\n",
      " 762920 702828 736206 687142 695998 769390 725602 767938 710914 707717\n",
      " 748566 721546 722692 711658 738357 748929 698109 694789 742109 723987\n",
      " 762508 760313 711038 705044 720151 715518 691604 713948 719692 758951\n",
      " 714709 759481 746175 724812 734198 714834 742175 769935 710587 716579\n",
      " 742018 705362 702916 764627 710210 733154 702819 714179 731829 713702\n",
      " 728996 765272 709311 744575 700979 691532 765375 690776 725594 732786]\n"
     ]
    }
   ],
   "source": [
    "bizs_prs = pr[no_usrs:]\n",
    "top_BIZ_INDXS2 = (np.array(heapq.nlargest(100, range(len(bizs_prs)), bizs_prs.take)) + no_usrs)\n",
    "print(top_BIZ_INDXS2)"
   ]
  },
  {
   "cell_type": "markdown",
   "metadata": {},
   "source": [
    "Finding ids,prs of top 100 businesses"
   ]
  },
  {
   "cell_type": "code",
   "execution_count": 94,
   "metadata": {
    "collapsed": true
   },
   "outputs": [],
   "source": [
    "top_BIZ_IDS2 = []\n",
    "top_BIZ_PRS2 = []\n",
    "for index in top_BIZ_INDXS2:\n",
    "    top_BIZ_IDS2.append(NODES[index])\n",
    "    top_BIZ_PRS2.append(pr[index,0])"
   ]
  },
  {
   "cell_type": "markdown",
   "metadata": {},
   "source": [
    "Printing business ids"
   ]
  },
  {
   "cell_type": "markdown",
   "metadata": {},
   "source": [
    "Printing degrees of top 100 businesses to see if there is any correlation"
   ]
  },
  {
   "cell_type": "code",
   "execution_count": 95,
   "metadata": {
    "collapsed": false,
    "scrolled": true
   },
   "outputs": [
    {
     "name": "stdout",
     "output_type": "stream",
     "text": [
      "business iUPJmJvHy9fVfRxsuwwdLQ, has degree 3577 with pr 0.001071\n",
      "business 4bEjOyTaDG24SY5TxsaUNQ, has degree 5552 with pr 0.000782\n",
      "business aGbjLWzcrnEx2ZmMCFm3EA, has degree 4148 with pr 0.000696\n",
      "business sIyHTizqAiGu12XMLX3N3g, has degree 4526 with pr 0.000645\n",
      "business zt1TpTuJ6y9n551sw9TaEg, has degree 4328 with pr 0.000568\n",
      "business 2e2e7WgqU1BnpxmQL5jbfw, has degree 4099 with pr 0.000494\n",
      "business QbmcCE_cLq4WO8ZMKImaLw, has degree 3197 with pr 0.000493\n",
      "business Xhg93cMdemu5pAMkDoEdtQ, has degree 3321 with pr 0.000438\n",
      "business 6LM_Klmp3hOP0JmsMCKRqQ, has degree 2548 with pr 0.000435\n",
      "business JpHE7yhMS5ehA9e8WG_ETg, has degree 2792 with pr 0.000425\n",
      "business mDdqifuTrfXAOfxiLMGu5Q, has degree 2249 with pr 0.000421\n",
      "business AtjsjFzalWqJ7S9DUFQ4bw, has degree 2861 with pr 0.000405\n",
      "business lliksv-tglfUz1T3B3vgvA, has degree 2908 with pr 0.000395\n",
      "business NGJDjdiDJHmN2xxU7KauuA, has degree 2078 with pr 0.000387\n",
      "business g3jYo6FIfkVlNBk2zOWoig, has degree 1098 with pr 0.000378\n",
      "business YNQgak-ZLtYJQxlDwN-qIg, has degree 3104 with pr 0.000374\n",
      "business r1YB-iVpNM8oP2eEqyaVbg, has degree 1880 with pr 0.000372\n",
      "business tFU2Js_nbIZOrnKfYJYBBg, has degree 2778 with pr 0.000367\n",
      "business 1yx2zLskVTe5WQdYjL2Apw, has degree 1896 with pr 0.000366\n",
      "business eWPFXL1Bmu1ImtIa2Rqliw, has degree 2456 with pr 0.000360\n",
      "business CZjcFdvJhksq9dy58NVEzw, has degree 2832 with pr 0.000357\n",
      "business Es300Ys1XXPYg8aI7BKVYQ, has degree 2543 with pr 0.000327\n",
      "business eq6lQI039SBLC6sHm3idGA, has degree 2700 with pr 0.000325\n",
      "business DO3Gk17RyJVW7zYMCtYPnw, has degree 2368 with pr 0.000325\n",
      "business xfwRO04KbAPw_zRotCfWQQ, has degree 2575 with pr 0.000306\n",
      "business A3Jv-FFRsDEWXxKJ6ZIxfg, has degree 1707 with pr 0.000302\n",
      "business ateowLnq6kpgNNWHzCDByQ, has degree 1667 with pr 0.000302\n",
      "business G0nUhYF2q4tnoOPwCjXLig, has degree 1811 with pr 0.000295\n",
      "business 34uJtlPnKicSaX1V8_tu1A, has degree 2248 with pr 0.000292\n",
      "business uJYw4p59AKh8c8h5yWMdOw, has degree 2014 with pr 0.000282\n",
      "business s5-VDvUqyYnD8RG3LPqnbQ, has degree 1609 with pr 0.000282\n",
      "business PXviRcHR1mqdH4vRc2LEAQ, has degree 2386 with pr 0.000277\n",
      "business ripCiWZ0MblMZSLrIKQAKA, has degree 1695 with pr 0.000273\n",
      "business TWD8c5-P7w9v-2KX_GSNZQ, has degree 1858 with pr 0.000266\n",
      "business WIlklz81DcJkUWJThbnJbQ, has degree 1697 with pr 0.000264\n",
      "business WT-v-DgQvW38DewVyTLdTA, has degree 1415 with pr 0.000264\n",
      "business -7yF42k0CcJhtPw51oaOqQ, has degree 1968 with pr 0.000257\n",
      "business kEC7OlpPnZRxCUyVwq7hig, has degree 1522 with pr 0.000256\n",
      "business HbUQ_3dlm3uCacmhTEMnuA, has degree 1650 with pr 0.000255\n",
      "business NsnZ5GhagXBKrCOelxVQxw, has degree 1555 with pr 0.000248\n",
      "business u9wjRhUjySkHPa_hG3kFOg, has degree 1743 with pr 0.000248\n",
      "business BqrTtox0JbG-P_DKBB5bBw, has degree 2073 with pr 0.000247\n",
      "business _v6HIliEOn0l0YaAmBOrxw, has degree 1619 with pr 0.000246\n",
      "business 05fTEsjUPVo5jks8PpNKCQ, has degree 1727 with pr 0.000244\n",
      "business 6i8vY-6gCQd5v6lZ8yne5Q, has degree 1272 with pr 0.000242\n",
      "business z3SyT8blMIhsZNvKJgKcRA, has degree 1728 with pr 0.000240\n",
      "business SsTxjxo8qvqBMvan1rzNzg, has degree 1875 with pr 0.000238\n",
      "business xyTJYlbE_MLouK6rCou6zg, has degree 2001 with pr 0.000224\n",
      "business Ht8mXLuqJSTPrU9kvzosUA, has degree 1764 with pr 0.000219\n",
      "business FV16IeXJp2W6pnghTz2FAw, has degree 1921 with pr 0.000217\n",
      "business jOuERtVf7QePnK9ZcdH5XA, has degree 1881 with pr 0.000216\n",
      "business PqTX5j9yfsPbd1qQCA1EwA, has degree 1805 with pr 0.000215\n",
      "business QhwkFogGQA-Ar176Ul5PUQ, has degree 1584 with pr 0.000214\n",
      "business IRYj1b1-mlXqABVsl9SoqQ, has degree 1437 with pr 0.000213\n",
      "business bYhpy9u8fKkGhYHtvYXazQ, has degree 1474 with pr 0.000213\n",
      "business jf67Z1pnwElRSXllpQHiJg, has degree 2342 with pr 0.000213\n",
      "business 8IMEf_cj8KyTQojhNOyoPg, has degree 1363 with pr 0.000212\n",
      "business 5paMI5Hhciyl09yGpzdoJw, has degree 1723 with pr 0.000210\n",
      "business eP9T-2a94ChFAl1Rd2R0jg, has degree 1212 with pr 0.000210\n",
      "business RhbOa-Ft3sZB4B_1j5LfyA, has degree 1052 with pr 0.000204\n",
      "business tqu42L0qXzkvYKSruOz0IA, has degree 1548 with pr 0.000203\n",
      "business sAOpm86A4ukUhY5men3Xbg, has degree 1162 with pr 0.000198\n",
      "business HyfFenprdpIA4rmKu6DW3g, has degree 1475 with pr 0.000196\n",
      "business DUdBbrvqfaqUe9GYKmYNtA, has degree 1456 with pr 0.000195\n",
      "business OoeTGTkxvSZqqicZ8ljJjw, has degree 1162 with pr 0.000195\n",
      "business LLDGTT7FExklkQvHebEjRg, has degree 1398 with pr 0.000195\n",
      "business 3Q0QQPnHcJuX1DLCL9G9Cg, has degree 1181 with pr 0.000193\n",
      "business K8dQr_82-DMpDudEv8PDmw, has degree 1101 with pr 0.000192\n",
      "business OUpcKYGbVYgSS1Oo7aQ56Q, has degree 1259 with pr 0.000190\n",
      "business rBPQuQgTcMtUq5-RYhY2uQ, has degree 1540 with pr 0.000189\n",
      "business KjymOs12Mpy0Kd54b7T9MA, has degree 1291 with pr 0.000185\n",
      "business rZbHg4ACfN3iShdsT47WKQ, has degree 1444 with pr 0.000185\n",
      "business hW0Ne_HTHEAgGF1rAdmR-g, has degree 1705 with pr 0.000185\n",
      "business SHfUGBOznEtDhK6WbVrvIw, has degree 1286 with pr 0.000182\n",
      "business ZP6qFq7LUh6Tr7WHPoOW6g, has degree 1383 with pr 0.000180\n",
      "business KpZLxHrp2PIP8tLBsPLiww, has degree 1129 with pr 0.000177\n",
      "business eRRyfI6QVvSviirRF8UGzQ, has degree 1270 with pr 0.000176\n",
      "business zTCCbg7mGslxACL5KlAPIQ, has degree 1348 with pr 0.000174\n",
      "business HdpRAsa0mPkPJg1x536uSA, has degree 800 with pr 0.000173\n",
      "business M6lSMGoTEWbUrNs-KRU5Yw, has degree 681 with pr 0.000173\n",
      "business eLPld7Q17XxlclFGzZQX5g, has degree 1371 with pr 0.000168\n",
      "business DjOxXobyGDwWt89q4z1twg, has degree 1672 with pr 0.000168\n",
      "business BuJ40Y7c_ERYmkQGoFb8zQ, has degree 1001 with pr 0.000168\n",
      "business vT12uXtdBQ10_lUcl-M40w, has degree 1114 with pr 0.000168\n",
      "business HMr_KN63f6MzM9h8Wije3Q, has degree 1287 with pr 0.000167\n",
      "business YacTpiq0ZptFcXD7I-kdGA, has degree 1146 with pr 0.000166\n",
      "business BqD7X5CHXnJ14YbBBlLx1w, has degree 1217 with pr 0.000166\n",
      "business KJnVuzpveyDrHARVNZaYVg, has degree 1024 with pr 0.000165\n",
      "business XaE11A0CYHUj27rEv-6kHg, has degree 694 with pr 0.000165\n",
      "business JxqtmneayPXU0nSHxC5YOw, has degree 914 with pr 0.000165\n",
      "business VVeogjZya58oiTxK7qUjAQ, has degree 1572 with pr 0.000164\n",
      "business vxxMqBaAHuWdx4impsLSSA, has degree 1531 with pr 0.000163\n",
      "business GhQQsSApIRfUmIcqzmSaGA, has degree 672 with pr 0.000163\n",
      "business gGeVLZ9j_wAYKbaqgnKSJA, has degree 1052 with pr 0.000161\n",
      "business ASOiJ8MmbBTgK2D1_MQrqg, has degree 1086 with pr 0.000159\n",
      "business 3MmHmJXr8Ltk_Z5EGE4KUw, has degree 974 with pr 0.000159\n",
      "business w29d_3Ua0_JlOaAk89Sr2w, has degree 745 with pr 0.000158\n",
      "business 2lF_8RZRBd9STfk_QwAtmg, has degree 876 with pr 0.000157\n",
      "business SsGNAc9U-aKPZccnaDtFkA, has degree 1093 with pr 0.000155\n",
      "business YKOvlBNkF4KpUP9q7x862w, has degree 1213 with pr 0.000153\n"
     ]
    }
   ],
   "source": [
    "# printing business ids\n",
    "for i in range(0,100):\n",
    "    print(\"business %s, has degree %d with pr %f\"%(top_BIZ_IDS2[i],np.count_nonzero(EDGES_MAT == top_BIZ_IDS2[i]), top_BIZ_PRS2[i]))"
   ]
  },
  {
   "cell_type": "markdown",
   "metadata": {},
   "source": [
    "Saving the result in JSON"
   ]
  },
  {
   "cell_type": "code",
   "execution_count": 59,
   "metadata": {
    "collapsed": true
   },
   "outputs": [],
   "source": [
    "index = []\n",
    "count = 100\n",
    "for i in range(0,100):\n",
    "    index.append('Top%d' % (count,))\n",
    "    count = count - 1\n",
    "ranks = pd.DataFrame()\n",
    "ranks['head'] = index\n",
    "ranks['businessId'] = top_BIZ_IDS2\n",
    "ranks['pagerank'] = top_BIZ_PRS2"
   ]
  },
  {
   "cell_type": "code",
   "execution_count": 60,
   "metadata": {
    "collapsed": false
   },
   "outputs": [],
   "source": [
    "ranks.set_index('head', inplace=True)\n",
    "ranks.to_json('hw3_4.json', orient='index')"
   ]
  },
  {
   "cell_type": "markdown",
   "metadata": {},
   "source": [
    "Observations :\n",
    "we are not able see any change in top 100 rankings.\n",
    "This is because there is strong centrality in our network around business nodes, \n",
    "there is no connectivity among business nodes(with each other) and there is no connectivity among user nodes(with each other)\n",
    "Let say we assign very high prior to a particular business, this business will distribute this prior to the users connected to it in next iteration, these users will further distribute these priors to other businesses connected to them in coming iterations, ultimatly at last the business which is reviewed by most number of users(in other words have highest in-degree) is going to get highest page rank. irrespective of what prior distribution we start our iteration with. \n",
    "In our setup the top 100 businesses going to be same even after assigning priors."
   ]
  },
  {
   "cell_type": "code",
   "execution_count": null,
   "metadata": {
    "collapsed": true
   },
   "outputs": [],
   "source": []
  }
 ],
 "metadata": {
  "anaconda-cloud": {},
  "kernelspec": {
   "display_name": "Python [Root]",
   "language": "python",
   "name": "Python [Root]"
  },
  "language_info": {
   "codemirror_mode": {
    "name": "ipython",
    "version": 2
   },
   "file_extension": ".py",
   "mimetype": "text/x-python",
   "name": "python",
   "nbconvert_exporter": "python",
   "pygments_lexer": "ipython2",
   "version": "2.7.12"
  }
 },
 "nbformat": 4,
 "nbformat_minor": 0
}
